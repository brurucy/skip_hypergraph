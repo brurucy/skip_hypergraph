{
 "cells": [
  {
   "cell_type": "code",
   "execution_count": 3,
   "metadata": {
    "collapsed": true
   },
   "outputs": [],
   "source": [
    "from operator import attrgetter\n",
    "from sortedcontainers import SortedList\n",
    "import bisect\n",
    "import math\n",
    "import random as random\n",
    "from pyroaring import BitMap\n",
    "\n",
    "def binarysearch(a, x):\n",
    "    i = bisect.bisect_left(a, x)\n",
    "    if i != len(a) and a[i] == x:\n",
    "        #print(a[i], x)\n",
    "        return True\n",
    "    else:\n",
    "        return False"
   ]
  },
  {
   "cell_type": "markdown",
   "source": [
    "# Welcome.\n",
    "\n",
    "In this notebook there are 3 algorithms:\n",
    "\n",
    "* Roaring Teleport Lists\n",
    "* Roaring Split List\n",
    "* Split List\n",
    "\n",
    "**Roaring** refers to the usage of [Roaring Bitmaps](https://arxiv.org/pdf/1603.06549.pdf) as indexes.\n",
    "\n",
    "That are compared with `sortedcontainers`'s SortedList.\n",
    "\n",
    "## Invariants\n",
    "\n",
    "All data structures have the following invariants:\n",
    "\n",
    "* Geometrically distributed random heights that hold both the data and the indexes\n",
    "* Clever use of min and max values in order to speed up lookups and inserts"
   ],
   "metadata": {
    "collapsed": false
   }
  },
  {
   "cell_type": "markdown",
   "source": [
    "### Roaring MinMaxDict\n",
    "\n",
    "This is the container that will hold both the indexes and the data within each \"height\"."
   ],
   "metadata": {
    "collapsed": false,
    "pycharm": {
     "name": "#%% md\n"
    }
   }
  },
  {
   "cell_type": "code",
   "execution_count": 4,
   "outputs": [],
   "source": [
    "class RoaringMinMaxDict(dict):\n",
    "    def __init__(self, *arg, **kwargs):\n",
    "        super().__init__()\n",
    "        self.indexes = BitMap()\n",
    "        self.max = float('-inf')\n",
    "        self.min = float('inf')\n",
    "\n",
    "    def insert(self, key, value=None):\n",
    "        self.indexes.add(key)\n",
    "        self.max = self.indexes.max()\n",
    "        self.min = self.indexes.min()\n",
    "        dict.__setitem__(self, key, value)\n",
    "\n",
    "    ## Deletes a VALUE\n",
    "    def delete(self, key):\n",
    "        self[key] = '<deleted>'\n",
    "\n",
    "    ## Discards a VALUE/wipes it out of the index and dict\n",
    "    def discard(self, key):\n",
    "        self.pop(key)\n",
    "        self.indexes.discard(key)\n",
    "        self.max = self.indexes.max()\n",
    "        self.min = self.indexes.min()\n",
    "\n",
    "    def __lt__(self, other):\n",
    "        return self.indexes.min() < other"
   ],
   "metadata": {
    "collapsed": false,
    "pycharm": {
     "name": "#%%\n"
    }
   }
  },
  {
   "cell_type": "markdown",
   "source": [
    "## Teleport List\n",
    "\n",
    "This is the Teleport list, the fastest data structure we have for inserts and deletions."
   ],
   "metadata": {
    "collapsed": false,
    "pycharm": {
     "name": "#%% md\n"
    }
   }
  },
  {
   "cell_type": "code",
   "execution_count": 5,
   "outputs": [],
   "source": [
    "class TeleportList:\n",
    "\n",
    "    def __init__(self):\n",
    "        self.height = -1\n",
    "        self.subdicts = []\n",
    "\n",
    "    def insert(self, key, value=None):\n",
    "\n",
    "        height = int(-(math.log2(random.random())))\n",
    "\n",
    "        if self.height < height:\n",
    "            for i in range(height - self.height):\n",
    "                self.subdicts.append(RoaringMinMaxDict())\n",
    "            self.height = height\n",
    "\n",
    "        highest = self.subdicts[height]\n",
    "\n",
    "        if key not in highest.indexes:\n",
    "            highest.insert(key, value)\n",
    "\n",
    "    def lookup(self, key):\n",
    "\n",
    "        for i in self.subdicts:\n",
    "            if i.min <= key <= i.max:\n",
    "                if key in i.indexes:\n",
    "                    return i[key]\n",
    "        return False\n",
    "\n",
    "    def delete(self, key):\n",
    "        for i in self.subdicts:\n",
    "            if i.min <= key <= i.max:\n",
    "                if key in i.indexes:\n",
    "                    i.delete(key)\n",
    "\n",
    "    def discard(self, key):\n",
    "        for i in self.subdicts:\n",
    "            if i.min <= key <= i.max:\n",
    "                if key in i.indexes:\n",
    "                    i.discard(key)\n",
    "\n",
    "    def show_hedges(self):\n",
    "        for i in self.subdicts:\n",
    "            print(i.indexes)\n",
    "\n",
    "    def show_minmax(self):\n",
    "        for i in self.subdicts:\n",
    "            print(f'({i.min}, {i.max})')"
   ],
   "metadata": {
    "collapsed": false,
    "pycharm": {
     "name": "#%%\n"
    }
   }
  },
  {
   "cell_type": "markdown",
   "source": [
    "### Roaring MaxDict\n",
    "\n",
    "This is the container that will hold both the indexes and the data within each \"height\"."
   ],
   "metadata": {
    "collapsed": false,
    "pycharm": {
     "name": "#%% md\n"
    }
   }
  },
  {
   "cell_type": "code",
   "execution_count": 6,
   "outputs": [],
   "source": [
    "class RoaringMaxDict(dict):\n",
    "    def __init__(self, nr):\n",
    "        super().__init__()\n",
    "        self.indexes = BitMap()\n",
    "        self.indexes.add(nr)\n",
    "        self.max = float(\"-inf\")\n",
    "\n",
    "    def insert(self, key, value=None):\n",
    "        self.indexes.add(key)\n",
    "        self.max = self.indexes.max()\n",
    "        dict.__setitem__(self, key, value)\n",
    "\n",
    "    def delete(self, key):\n",
    "        self[key] = '<deleted>'\n",
    "\n",
    "    def __lt__(self, other):\n",
    "        if isinstance(other, int):\n",
    "            return self.max < other\n",
    "        else:\n",
    "            return self.max < other.max\n",
    "\n",
    "class SortableSubList:\n",
    "    def __init__(self):\n",
    "        self.sublists = []"
   ],
   "metadata": {
    "collapsed": false,
    "pycharm": {
     "name": "#%%\n"
    }
   }
  },
  {
   "cell_type": "markdown",
   "source": [
    "## Split List\n",
    "\n",
    "This is the Split list, the most stable data structure we have."
   ],
   "metadata": {
    "collapsed": false,
    "pycharm": {
     "name": "#%% md\n"
    }
   }
  },
  {
   "cell_type": "code",
   "execution_count": 7,
   "outputs": [],
   "source": [
    "def splitter_two(arr, load):\n",
    "    half = load // 2\n",
    "    zs = arr[0:half]\n",
    "    arr = arr.difference(zs)\n",
    "    return zs\n",
    "\n",
    "# if overload is detected, splits and adds a new split into levellist\n",
    "def Overload(blist, i, load):\n",
    "    B = RoaringMaxDict(5)\n",
    "    candidate_sublist = blist.sublists[i]\n",
    "    B.indexes = splitter_two(candidate_sublist.indexes, load)\n",
    "    B.max = B.indexes.max()\n",
    "    bisect.insort_left(blist.sublists, B)\n",
    "\n",
    "class RoaringSplitList:\n",
    "    def __init__(self):\n",
    "        self.height = -1\n",
    "        self.blists = []\n",
    "        self.load = 2000\n",
    "\n",
    "    def lookup(self, nr):\n",
    "        for he in self.blists:\n",
    "            if nr <= he.sublists[-1].max:\n",
    "                i = bisect.bisect_left(he.sublists, nr)\n",
    "                if  i != len(he.sublists) and he.sublists[i].indexes[0] <= nr:\n",
    "                    if nr in he.sublists[i].indexes:\n",
    "                        return True\n",
    "        print(nr) #can be used to detect if the search works or not\n",
    "        return nr\n",
    "\n",
    "    def insert(self, nr):\n",
    "        ## Getting the estimated geometric distribution\n",
    "        height = int(-(math.log2(random.random())))\n",
    "        ## Checking whether we need to add new edges\n",
    "        if self.height < height:\n",
    "            for i in range(height - self.height):\n",
    "                B = SortableSubList()\n",
    "                C = RoaringMaxDict(nr)\n",
    "                B.sublists.append(C)\n",
    "                self.blists.append(B)\n",
    "            self.height = height\n",
    "\n",
    "        ## Getting the to-be-added list\n",
    "        blist = self.blists[height]\n",
    "\n",
    "        L = len(blist.sublists)\n",
    "        i = bisect.bisect_left(blist.sublists, nr)\n",
    "\n",
    "        if i == 0 or L == 1:\n",
    "            updated_maxlist = blist.sublists[0]\n",
    "            updated_maxlist.insert(nr)\n",
    "            if len(updated_maxlist.indexes) == self.load:\n",
    "                    Overload(blist, 0, self.load)\n",
    "        elif i == L:\n",
    "            updated_maxlist = blist.sublists[-1]\n",
    "            updated_maxlist.insert(nr)\n",
    "            if len(updated_maxlist.indexes) == self.load:\n",
    "                    Overload(blist, i-1, self.load)\n",
    "\n",
    "        else:\n",
    "            updated_maxlist = blist.sublists[i]\n",
    "            if updated_maxlist.indexes[0] <= nr:\n",
    "                updated_maxlist.indexes.add(nr)\n",
    "                if len(blist.sublists[i].indexes) == self.load:\n",
    "                    Overload(blist, i, self.load)\n",
    "            else:\n",
    "                updated_maxlist = blist.sublists[i-1]\n",
    "                updated_maxlist.insert(nr)\n",
    "                if len(updated_maxlist.indexes) == self.load:\n",
    "                    Overload(blist, i-1, self.load)\n",
    "\n",
    "    def show_hedges(self):\n",
    "        for i in self.blists:\n",
    "            maxes = [j.max for j in i.sublists]\n",
    "            print(maxes)\n",
    "\n",
    "    def show_edges(self):\n",
    "        for i in self.blists:\n",
    "            print(\"--------\" + str(len(i.sublists)) +\"-----------\")\n",
    "            for j in i.sublists:\n",
    "                print(j.indexes)\n",
    "\n",
    "    def show_minmax(self):\n",
    "        for i in self.blists:\n",
    "            print(f'({i.min}, {i.max})')"
   ],
   "metadata": {
    "collapsed": false,
    "pycharm": {
     "name": "#%%\n"
    }
   }
  },
  {
   "cell_type": "markdown",
   "source": [
    "## Split List"
   ],
   "metadata": {
    "collapsed": false,
    "pycharm": {
     "name": "#%% md\n"
    }
   }
  },
  {
   "cell_type": "code",
   "execution_count": 10,
   "outputs": [],
   "source": [
    "#splits the overloaded list into two consecutive parts\n",
    "def splitterSimple(arr, load):\n",
    "    half = load // 2\n",
    "    zs = [0] * half\n",
    "    for i in range(half-1, -1, -1):\n",
    "        zs[i] = arr.pop()\n",
    "    return zs\n",
    "\n",
    "# if overload is detected, splits and adds a new split into levellist\n",
    "def OverloadSimple(blist, i, load):\n",
    "    B = IntervalList(5)\n",
    "    candidate_sublist = blist.sublists[i]\n",
    "    B.indexes = splitterSimple(candidate_sublist.indexes, load)\n",
    "    #B.i = - blist.sublists[i].i - 1\n",
    "    B.max = candidate_sublist.max\n",
    "    candidate_sublist.max = candidate_sublist.indexes[-1]\n",
    "    blist.sublists.insert(i+1, B)\n",
    "\n",
    "class IntervalList:\n",
    "    def __init__(self, nr):\n",
    "        self.indexes = [nr]\n",
    "        self.max = float(\"-inf\")\n",
    "\n",
    "    def __lt__(self, other):\n",
    "        if isinstance(other, int):\n",
    "            return self.max < other\n",
    "        else:\n",
    "            return self.max < other.max\n",
    "\n",
    "class LevelList:\n",
    "    def __init__(self):\n",
    "        self.sublists = []\n",
    "        self.min = float(\"inf\")\n",
    "        self.max = float(\"-inf\")\n",
    "\n",
    "    def __lt__(self, other):\n",
    "        return self.max > other\n",
    "\n",
    "class SplitList:# Rucy, rename it!\n",
    "    def __init__(self):\n",
    "        self.height = -1\n",
    "        self.blists = []\n",
    "        self.load = 2000\n",
    "\n",
    "\n",
    "    def lookup(self, nr):\n",
    "\n",
    "        for he in self.blists:\n",
    "\n",
    "            if nr <= he.sublists[-1].max:\n",
    "                i = bisect.bisect_left(he.sublists, nr)\n",
    "\n",
    "                if  i != len(he.sublists) and he.sublists[i].indexes[0] <= nr:\n",
    "                    if binarysearch(he.sublists[i].indexes, nr):\n",
    "                        return True\n",
    "        #print(nr) #can be used to detect if the search works or not\n",
    "        return nr\n",
    "\n",
    "    def insert(self, nr):\n",
    "        ## Getting the estimated geometric distribution\n",
    "        height = int(-(math.log2(random.random())))\n",
    "        ## Checking whether we need to add new edges\n",
    "        if self.height < height:\n",
    "            for i in range(height - self.height):\n",
    "                B = LevelList()\n",
    "                C = IntervalList(nr)\n",
    "                C.max = -1 #arbitrary contemporary max\n",
    "                B.sublists.append(C)\n",
    "                self.blists.append(B)\n",
    "            self.height = height\n",
    "\n",
    "        ## Getting the to-be-added list\n",
    "        blist = self.blists[height]\n",
    "\n",
    "        ## Doing the search to see which Intervallist it should be in\n",
    "        L = len(blist.sublists)\n",
    "        i = bisect.bisect_left(blist.sublists, nr)\n",
    "\n",
    "        ## If it's smaller than all other elements then just insort it\n",
    "        if i == 0 or L == 1:\n",
    "            candid = blist.sublists[0]\n",
    "            bisect.insort_left(candid.indexes, nr)\n",
    "            candid.max = candid.indexes[-1]\n",
    "            if len(candid.indexes) == self.load:\n",
    "                    OverloadSimple(blist, 0, self.load)\n",
    "        ## If it's bigger than all the other elements than just append it\n",
    "        elif i == L:\n",
    "            candid = blist.sublists[-1]\n",
    "            candid.indexes.append(nr)\n",
    "            candid.max = nr\n",
    "            if len(candid.indexes) == self.load:\n",
    "                    OverloadSimple(blist, i-1, self.load)\n",
    "\n",
    "            ## Else add it\n",
    "        else:\n",
    "            candidate_sublist = blist.sublists[i]\n",
    "            # if the element is also bigger than the minimum of the current list than we insort it\n",
    "            if candidate_sublist.indexes[0] <= nr:\n",
    "                bisect.insort_left(candidate_sublist.indexes, nr)\n",
    "\n",
    "                if len(blist.sublists[i].indexes) == self.load:\n",
    "                    OverloadSimple(blist, i, self.load)\n",
    "            # then the element must be smaller then the min of the current list but therefore\n",
    "            # bigger than the max of the previous list-- so we just append it\n",
    "            else:\n",
    "                candidate_sublist = blist.sublists[i-1]\n",
    "                candidate_sublist.indexes.append(nr)\n",
    "                candidate_sublist.max = nr\n",
    "\n",
    "                if len(candidate_sublist.indexes) == self.load:\n",
    "                    OverloadSimple(blist, i-1, self.load)\n",
    "\n",
    "    def show_hedges(self):\n",
    "        for i in self.blists:\n",
    "            maxes = [j.max for j in i.sublists]\n",
    "            print(maxes)\n",
    "\n",
    "    def show_edges(self):\n",
    "        for i in self.blists:\n",
    "            print(\"--------\" + str(len(i.sublists)) +\"-----------\")\n",
    "            for j in i.sublists:\n",
    "                print(j.indexes)\n",
    "\n",
    "    def show_minmax(self):\n",
    "        for i in self.blists:\n",
    "            print(f'({i.min}, {i.max})')\n"
   ],
   "metadata": {
    "collapsed": false,
    "pycharm": {
     "name": "#%%\n"
    }
   }
  },
  {
   "cell_type": "markdown",
   "source": [
    "# Benchmarks.\n",
    "\n",
    "Let's do some simple ones.\n",
    "\n",
    "Insert and lookup of 1 million elements."
   ],
   "metadata": {
    "collapsed": false,
    "pycharm": {
     "name": "#%% md\n"
    }
   }
  },
  {
   "cell_type": "code",
   "execution_count": 17,
   "outputs": [
    {
     "name": "stdout",
     "output_type": "stream",
     "text": [
      "1.72 s ± 0 ns per loop (mean ± std. dev. of 1 run, 1 loop each)\n",
      "1.79 s ± 0 ns per loop (mean ± std. dev. of 1 run, 1 loop each)\n",
      "3.21 s ± 0 ns per loop (mean ± std. dev. of 1 run, 1 loop each)\n",
      "5.16 s ± 0 ns per loop (mean ± std. dev. of 1 run, 1 loop each)\n"
     ]
    }
   ],
   "source": [
    "random.seed(0)\n",
    "\n",
    "tlist = TeleportList()\n",
    "rslist = RoaringSplitList()\n",
    "slist = SortedList()\n",
    "splist = SplitList()\n",
    "\n",
    "nr = 1000000\n",
    "\n",
    "ten_thousand_integers = [random.randint(1, 2000000) for i in range(nr)]\n",
    "\n",
    "def insert_tlist(tl):\n",
    "    for i in range(nr):\n",
    "        tl.insert(ten_thousand_integers[i])\n",
    "\n",
    "def insert_rslist(rtl):\n",
    "    for i in range(nr):\n",
    "        rtl.insert(ten_thousand_integers[i])\n",
    "\n",
    "def insert_slist(sl):\n",
    "    for i in range(nr):\n",
    "        sl.add(ten_thousand_integers[i])\n",
    "\n",
    "def insert_nlist(novus):\n",
    "    for i in range(nr):\n",
    "        novus.insert(ten_thousand_integers[i])\n",
    "\n",
    "%timeit -r 1 -n 1 insert_tlist(tlist)\n",
    "%timeit -r 1 -n 1 insert_rslist(rslist)\n",
    "%timeit -r 1 -n 1 insert_slist(slist)\n",
    "%timeit -r 1 -n 1 insert_nlist(splist)"
   ],
   "metadata": {
    "collapsed": false,
    "pycharm": {
     "name": "#%%\n"
    }
   }
  },
  {
   "cell_type": "code",
   "execution_count": 19,
   "outputs": [
    {
     "name": "stdout",
     "output_type": "stream",
     "text": [
      "922 ms ± 166 ms per loop (mean ± std. dev. of 10 runs, 1 loop each)\n",
      "2.47 s ± 238 ms per loop (mean ± std. dev. of 10 runs, 1 loop each)\n",
      "2.61 s ± 503 ms per loop (mean ± std. dev. of 10 runs, 1 loop each)\n",
      "7.25 s ± 563 ms per loop (mean ± std. dev. of 10 runs, 1 loop each)\n"
     ]
    }
   ],
   "source": [
    "def lookup_tlist(tl):\n",
    "    for i in range(nr):\n",
    "        tl.lookup(ten_thousand_integers[i])\n",
    "\n",
    "def lookup_rslist(rtl):\n",
    "    for i in range(nr):\n",
    "        rtl.lookup(ten_thousand_integers[i])\n",
    "\n",
    "def lookup_slist(sl):\n",
    "    for i in range(nr):\n",
    "        ten_thousand_integers[i] in sl\n",
    "\n",
    "def lookup_nlist(novus):\n",
    "    for i in range(nr):\n",
    "        novus.lookup(ten_thousand_integers[i])\n",
    "\n",
    "%timeit -r 10 -n 1 lookup_tlist(tlist)\n",
    "%timeit -r 10 -n 1 lookup_rslist(rslist)\n",
    "%timeit -r 10 -n 1 lookup_slist(slist)\n",
    "%timeit -r 10 -n 1 lookup_nlist(splist)"
   ],
   "metadata": {
    "collapsed": false,
    "pycharm": {
     "name": "#%%\n"
    }
   }
  }
 ],
 "metadata": {
  "kernelspec": {
   "display_name": "Python 3",
   "language": "python",
   "name": "python3"
  },
  "language_info": {
   "codemirror_mode": {
    "name": "ipython",
    "version": 2
   },
   "file_extension": ".py",
   "mimetype": "text/x-python",
   "name": "python",
   "nbconvert_exporter": "python",
   "pygments_lexer": "ipython2",
   "version": "2.7.6"
  }
 },
 "nbformat": 4,
 "nbformat_minor": 0
}
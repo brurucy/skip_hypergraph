{
 "cells": [
  {
   "cell_type": "code",
   "execution_count": 74,
   "metadata": {},
   "outputs": [],
   "source": [
    "import random as rand  "
   ]
  },
  {
   "cell_type": "code",
   "execution_count": 77,
   "metadata": {
    "pycharm": {
     "name": "#%%\n"
    }
   },
   "outputs": [],
   "source": [
    "## Hypergraph\n",
    "\n",
    "def getRandomLevel():\n",
    "    lvl = 0\n",
    "    while rand.random() < 0.8 and lvl < float('inf'):\n",
    "        lvl = lvl + 1\n",
    "    return lvl + 1\n",
    "\n",
    "class HyperEdge():\n",
    "    def __init__(self):\n",
    "        self.indexes = []\n",
    "        self.min = 0\n",
    "        self.max = 0\n",
    "        self.height = 0\n",
    "\n",
    "\n",
    "class HyperGraph():\n",
    "    def __init__(self):\n",
    "        self.height = getRandomLevel()\n",
    "        self.hedges = [HyperEdge() for i in range(self.height + 1)]\n",
    "\n",
    "\n",
    "    def lookup(self, nr):\n",
    "        cnt = 0\n",
    "        for he in self.hedges:\n",
    "            cnt = cnt + 1\n",
    "            if he.min <= nr <= he.max:\n",
    "                l = 0\n",
    "                r = len(he.indexes) - 1\n",
    "                while l <= r: \n",
    "                    cnt = cnt + 1\n",
    "                    mid = l + (r - l) // 2\n",
    "                    if he.nodes[mid] == nr: \n",
    "                        return (True, cnt)\n",
    "                    elif he.nodes[mid] < nr: \n",
    "                        l = mid + 1\n",
    "                    else: \n",
    "                        r = mid - 1                \n",
    "                #for node in he.nodes:\n",
    "                #    cnt = cnt + 1\n",
    "                #    if node > nr:\n",
    "                #        break\n",
    "                #    elif nr == node:\n",
    "                #        return (True, cnt)\n",
    "                #    else:\n",
    "                #        continue\n",
    "                #if he.nodes.union({nr}) == he.nodes:\n",
    "                #    return cnt\n",
    "                #for e in he.nodes:\n",
    "                #   if e == nr:\n",
    "                #      return True\n",
    "        return (False, cnt)\n",
    "    \n",
    "    def insert(self, nr):\n",
    "\n",
    "        boolie, _ = self.lookup(nr)\n",
    "        \n",
    "        if boolie:\n",
    "            return False\n",
    "\n",
    "        height = getRandomLevel()\n",
    "\n",
    "        if self.height < height:\n",
    "            for i in range(height - self.height):\n",
    "                self.hedges.append(HyperEdge())\n",
    "\n",
    "            self.height = height\n",
    "\n",
    "        self.hedges[height - 1].nodes.append(nr)\n",
    "\n",
    "        # Lol\n",
    "        self.hedges[height - 1].nodes.sort()\n",
    "\n",
    "        # Propagate the possibly new min/max\n",
    "        for i in self.hedges[:height]:\n",
    "            if i.min > nr:\n",
    "                i.min = nr\n",
    "            if i.max < nr:\n",
    "                i.max = nr\n",
    "\n",
    "    def show_hedges(self):\n",
    "        for i in self.hedges:\n",
    "            print(i.nodes)\n",
    "\n",
    "    def show_minmax(self):\n",
    "        for i in self.hedges:\n",
    "            print(f'min = {i.min} \\nmax = {i.max}')"
   ]
  },
  {
   "cell_type": "code",
   "execution_count": 38,
   "metadata": {
    "pycharm": {
     "name": "#%%\n"
    }
   },
   "outputs": [],
   "source": [
    "## Skiplist\n",
    "\n",
    "class SkipNode:\n",
    "    def __init__(self, height = 0, elem = None):\n",
    "        self.elem = elem\n",
    "        self.next = [None]*height\n",
    "\n",
    "class SkipList:\n",
    "    def __init__(self):\n",
    "        self.head = SkipNode()\n",
    "\n",
    "    def randomHeight(self):\n",
    "        height = 1\n",
    "        while rand.randint(1, 2) != 1:\n",
    "            height += 1\n",
    "        return height\n",
    "\n",
    "    def updateList(self, elem):\n",
    "\n",
    "        update = [None]*len(self.head.next)\n",
    "        x = self.head\n",
    "\n",
    "        for i in reversed(range(len(self.head.next))):\n",
    "            while x.next[i] != None and \\\n",
    "                x.next[i].elem < elem:\n",
    "                x = x.next[i]\n",
    "            update[i] = x\n",
    "\n",
    "        return update\n",
    "\n",
    "    def find(self, elem, update = None):\n",
    "        cnt = 0\n",
    "        if update == None:\n",
    "            update = self.updateList(elem)\n",
    "        if len(update) > 0:\n",
    "            candidate = update[0].next[0]\n",
    "            if candidate != None and candidate.elem == elem:\n",
    "                return candidate\n",
    "        return None\n",
    "\n",
    "    def findcnt(self, elem, update = None):\n",
    "        cnt = 0\n",
    "        if update == None:\n",
    "            #update = self.updateList(elem)\n",
    "            update = [None]*len(self.head.next)\n",
    "            x = self.head\n",
    "            for i in reversed(range(len(self.head.next))):\n",
    "                while x.next[i] != None and x.next[i].elem < elem:\n",
    "                    cnt = cnt + 1\n",
    "                    x = x.next[i]\n",
    "                update[i] = x\n",
    "            \n",
    "        cnt = cnt + 1\n",
    "        if len(update) > 0:\n",
    "            candidate = update[0].next[0]\n",
    "            cnt = cnt + 1\n",
    "            if candidate != None and candidate.elem == elem:\n",
    "                cnt = cnt + 1\n",
    "                return cnt\n",
    "        return cnt\n",
    "    \n",
    "    def insert(self, elem):\n",
    "\n",
    "        node = SkipNode(self.randomHeight(), elem)\n",
    "\n",
    "        while len(self.head.next) < len(node.next):\n",
    "            self.head.next.append(None)\n",
    "\n",
    "        update = self.updateList(elem)\n",
    "        if self.find(elem, update) == None:\n",
    "            for i in range(len(node.next)):\n",
    "                node.next[i] = update[i].next[i]\n",
    "                update[i].next[i] = node"
   ]
  },
  {
   "cell_type": "code",
   "execution_count": 5,
   "metadata": {},
   "outputs": [],
   "source": [
    "# SkipList Naive\n",
    "class NodeSKP(object): \n",
    "    def __init__(self, key, level): \n",
    "        self.key = key \n",
    "        self.forward = [None]*(level+1) \n",
    "  \n",
    "class SkipListNaive(object): \n",
    "    def __init__(self, max_lvl, P): \n",
    "        self.MAXLVL = max_lvl \n",
    "        self.P = P \n",
    "        self.header = self.createNode(self.MAXLVL, -1) \n",
    "        self.level = 0\n",
    "      \n",
    "    def createNode(self, lvl, key): \n",
    "        n = NodeSKP(key, lvl) \n",
    "        return n \n",
    "\n",
    "    def randomLevel(self): \n",
    "        lvl = 0\n",
    "        while rand.random()<self.P and lvl<self.MAXLVL:lvl += 1\n",
    "        return lvl \n",
    "\n",
    "    def find(self, key):  \n",
    "        current = self.header \n",
    "        for i in range(self.level, -1, -1): \n",
    "            while(current.forward[i] and current.forward[i].key < key): \n",
    "                current = current.forward[i] \n",
    "        current = current.forward[0] \n",
    "        if current and current.key == key: \n",
    "            return key  \n",
    "\n",
    "    def insert(self, key): \n",
    "        update = [None]*(self.MAXLVL+1) \n",
    "        current = self.header \n",
    "        for i in range(self.level, -1, -1): \n",
    "            while current.forward[i] and current.forward[i].key < key: \n",
    "                current = current.forward[i] \n",
    "            update[i] = current \n",
    "            \n",
    "        current = current.forward[0] \n",
    "  \n",
    "        if current == None or current.key != key: \n",
    "            rlevel = self.randomLevel() \n",
    "  \n",
    "            if rlevel > self.level: \n",
    "                for i in range(self.level+1, rlevel+1): \n",
    "                    update[i] = self.header \n",
    "                self.level = rlevel \n",
    "  \n",
    "            n = self.createNode(rlevel, key) \n",
    "  \n",
    "            for i in range(rlevel+1): \n",
    "                n.forward[i] = update[i].forward[i] \n",
    "                update[i].forward[i] = n \n"
   ]
  },
  {
   "cell_type": "code",
   "execution_count": 6,
   "metadata": {
    "pycharm": {
     "name": "#%% Linked list\n"
    }
   },
   "outputs": [],
   "source": [
    "# Linked List\n",
    "class Node:\n",
    "\n",
    "    def __init__(self, elem):\n",
    "        self.elem = elem\n",
    "        self.next = None\n",
    "\n",
    "class LinkedList:\n",
    "\n",
    "    def __init__(self):\n",
    "\n",
    "        self.head = Node(None)\n",
    "        self.len = 0\n",
    "\n",
    "    def __len__(self):\n",
    "        return self.len\n",
    "\n",
    "    def find(self, elem):\n",
    "        x = self.head\n",
    "        while x.next is not None and x.next.elem <= elem:\n",
    "            x = x.next\n",
    "        return x\n",
    "\n",
    "    def insert(self, elem):\n",
    "        x = self.find(elem)\n",
    "        if x.elem == elem:\n",
    "            return\n",
    "\n",
    "        node = Node(elem)\n",
    "        node.next = x.next\n",
    "        x.next = node\n",
    "\n",
    "        self.len += 1"
   ]
  },
  {
   "cell_type": "code",
   "execution_count": 80,
   "metadata": {
    "pycharm": {
     "name": "#%%\n"
    }
   },
   "outputs": [
    {
     "name": "stdout",
     "output_type": "stream",
     "text": [
      "391 ms ± 0 ns per loop (mean ± std. dev. of 1 run, 1 loop each)\n",
      "67.2 ms ± 0 ns per loop (mean ± std. dev. of 1 run, 1 loop each)\n"
     ]
    }
   ],
   "source": [
    "## Insert timeit\n",
    "\n",
    "hgraph = HyperGraph()\n",
    "skeep = SkipList()\n",
    "skeepNaive = SkipListNaive(10, 0.5)\n",
    "llist = LinkedList()\n",
    "sset = set()\n",
    "bset = 0\n",
    "\n",
    "ten_thousand_integers = [rand.randint(1, 500000) for i in range(10000)]\n",
    "\n",
    "def ten_k_hg(HG):\n",
    "    for i in range(10000):\n",
    "        HG.insert(ten_thousand_integers[i])\n",
    "\n",
    "def ten_k_sl(skeep):\n",
    "    for i in range(10000):\n",
    "        skeep.insert(ten_thousand_integers[i])\n",
    "\n",
    "def ten_k_sln(skeepNaive):\n",
    "    for i in range(10000):\n",
    "        skeepNaive.insert(ten_thousand_integers[i])\n",
    "        \n",
    "def ten_k_liszt(llist):\n",
    "    for i in range(10000):\n",
    "        llist.insert(ten_thousand_integers[i])\n",
    "\n",
    "def ten_k_sset(sset):\n",
    "    for i in range(10000):\n",
    "        sset.add(ten_thousand_integers[i])\n",
    "        \n",
    "def ten_k_bset(bset):\n",
    "    for i in range(10000):\n",
    "        bset |= 1 << i\n",
    "        \n",
    "# So far it's 10 times slower than a skip list\n",
    "# But 8 times faster than a linked list.\n",
    "#%timeit -r 1 -n 10 ten_k_sset(sset)\n",
    "#%timeit -r 1 -n 10 ten_k_bset(bset)\n",
    "%timeit -r 1 -n 1 ten_k_hg(hgraph)\n",
    "%timeit -r 1 -n 1 ten_k_sl(skeep)\n",
    "#%timeit -r 1 -n 1 ten_k_sl(skeepNaive)\n",
    "#%timeit -r 1 -n 10 ten_k_liszt(llist)\n",
    "#%timeit -r 1 -n 10 sorted(ten_thousand_integers)"
   ]
  },
  {
   "cell_type": "code",
   "execution_count": 81,
   "metadata": {
    "pycharm": {
     "name": "#%%\n"
    }
   },
   "outputs": [
    {
     "name": "stdout",
     "output_type": "stream",
     "text": [
      "121 ms ± 0 ns per loop (mean ± std. dev. of 1 run, 1 loop each)\n",
      "52.1 ms ± 0 ns per loop (mean ± std. dev. of 1 run, 1 loop each)\n"
     ]
    }
   ],
   "source": [
    "## Find timeit\n",
    "listhg = []\n",
    "listskp = []\n",
    "\n",
    "def ten_k_hg(HG):\n",
    "    for i in range(10000):\n",
    "        HG.lookup(ten_thousand_integers[i])\n",
    "\n",
    "def ten_k_sl(skeep):\n",
    "    for i in range(10000):\n",
    "        skeep.findcnt(ten_thousand_integers[i])        \n",
    "        \n",
    "def ten_k_sl_naive(skeepNaive):\n",
    "    for i in range(10000):\n",
    "        skeepNaive.find(ten_thousand_integers[i])\n",
    "\n",
    "def ten_k_liszt(llist):\n",
    "    for i in range(10000):\n",
    "        llist.find(ten_thousand_integers[i])\n",
    "\n",
    "def ten_k_sset(sset):\n",
    "    for i in range(10000):\n",
    "        ten_thousand_integers[i] in sset\n",
    "        \n",
    "def ten_k_bset(bset):\n",
    "    for i in range(10000):\n",
    "        bset & 1 << ten_thousand_integers[i]\n",
    "\n",
    "#%timeit -r 1 -n 10 ten_k_bset(bset)\n",
    "#%timeit -r 1 -n 10 ten_k_sset(sset)\n",
    "%timeit -r 1 -n 1 ten_k_hg(hgraph)\n",
    "%timeit -r 1 -n 1 ten_k_sl(skeep)\n",
    "#%timeit -r 1 -n 1 ten_k_sl_naive(skeepNaive)\n",
    "#%timeit -r 1 -n 10 ten_k_liszt(llist)\n",
    "#%timeit -r 1 -n 10 sorted(ten_thousand_integers)\n",
    "\n",
    "### So apparently the lookup function is slow asf.\n",
    "### Insert is actually kinda ok."
   ]
  },
  {
   "cell_type": "code",
   "execution_count": 82,
   "metadata": {},
   "outputs": [],
   "source": [
    "## Find timeit\n",
    "listhg = []\n",
    "listskp = []\n",
    "\n",
    "for i in range(10000):\n",
    "    listhg.append(hgraph.lookup(ten_thousand_integers[i]))\n",
    "    listskp.append(skeep.findcnt(ten_thousand_integers[i]))\n",
    "\n"
   ]
  },
  {
   "cell_type": "code",
   "execution_count": 83,
   "metadata": {},
   "outputs": [
    {
     "data": {
      "text/plain": [
       "52.786"
      ]
     },
     "execution_count": 83,
     "metadata": {},
     "output_type": "execute_result"
    }
   ],
   "source": [
    "from statistics import mean\n",
    "\n",
    "second_element = mean(map(lambda el: el[1], listhg))\n",
    "second_element"
   ]
  },
  {
   "cell_type": "code",
   "execution_count": 84,
   "metadata": {},
   "outputs": [
    {
     "data": {
      "text/plain": [
       "16.9004"
      ]
     },
     "execution_count": 84,
     "metadata": {},
     "output_type": "execute_result"
    }
   ],
   "source": [
    "second_element = mean(listskp)\n",
    "second_element"
   ]
  },
  {
   "cell_type": "code",
   "execution_count": 85,
   "metadata": {},
   "outputs": [
    {
     "data": {
      "text/plain": [
       "[('listhg', 87616),\n",
       " ('listskp', 87616),\n",
       " ('ten_thousand_integers', 87616),\n",
       " ('HyperEdge', 1064),\n",
       " ('HyperGraph', 1064),\n",
       " ('LinkedList', 1064),\n",
       " ('Node', 1064),\n",
       " ('NodeSKP', 1064),\n",
       " ('SkipList', 1064),\n",
       " ('SkipListNaive', 1064),\n",
       " ('SkipNode', 1064),\n",
       " ('sset', 216),\n",
       " ('binarySearch', 136),\n",
       " ('getRandomLevel', 136),\n",
       " ('mean', 136),\n",
       " ('ten_k_bset', 136),\n",
       " ('ten_k_hg', 136),\n",
       " ('ten_k_liszt', 136),\n",
       " ('ten_k_sl', 136),\n",
       " ('ten_k_sl_naive', 136),\n",
       " ('ten_k_sln', 136),\n",
       " ('ten_k_sset', 136),\n",
       " ('rand', 72),\n",
       " ('hgraph', 48),\n",
       " ('llist', 48),\n",
       " ('skeep', 48),\n",
       " ('skeepNaive', 48),\n",
       " ('i', 28),\n",
       " ('bset', 24),\n",
       " ('second_element', 24)]"
      ]
     },
     "execution_count": 85,
     "metadata": {},
     "output_type": "execute_result"
    }
   ],
   "source": [
    "import sys\n",
    "\n",
    "# These are the usual ipython objects, including this one you are creating\n",
    "ipython_vars = ['In', 'Out', 'exit', 'quit', 'get_ipython', 'ipython_vars']\n",
    "\n",
    "# Get a sorted list of the objects and their sizes\n",
    "sorted([(x, sys.getsizeof(globals().get(x))) for x in dir() if not x.startswith('_') and x not in sys.modules and x not in ipython_vars], key=lambda x: x[1], reverse=True)"
   ]
  },
  {
   "cell_type": "code",
   "execution_count": 89,
   "metadata": {},
   "outputs": [],
   "source": [
    "import pickle\n",
    "import sys\n",
    "sys.setrecursionlimit(100000)\n",
    "\n",
    "pickle.dump(hgraph, open(\"hgraph.p\", \"wb\" ))\n",
    "pickle.dump(skeep, open(\"skeep.p\", \"wb\"))"
   ]
  }
 ],
 "metadata": {
  "kernelspec": {
   "display_name": "Python 3",
   "language": "python",
   "name": "python3"
  },
  "language_info": {
   "codemirror_mode": {
    "name": "ipython",
    "version": 3
   },
   "file_extension": ".py",
   "mimetype": "text/x-python",
   "name": "python",
   "nbconvert_exporter": "python",
   "pygments_lexer": "ipython3",
   "version": "3.8.6"
  }
 },
 "nbformat": 4,
 "nbformat_minor": 4
}

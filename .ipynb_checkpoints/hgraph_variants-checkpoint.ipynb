{
 "cells": [
  {
   "cell_type": "code",
   "execution_count": 1,
   "metadata": {},
   "outputs": [
    {
     "ename": "ModuleNotFoundError",
     "evalue": "No module named 'sortedcontainers'",
     "output_type": "error",
     "traceback": [
      "\u001b[1;31m---------------------------------------------------------------------------\u001b[0m",
      "\u001b[1;31mModuleNotFoundError\u001b[0m                       Traceback (most recent call last)",
      "\u001b[1;32m<ipython-input-1-c64c0c293857>\u001b[0m in \u001b[0;36m<module>\u001b[1;34m()\u001b[0m\n\u001b[0;32m      1\u001b[0m \u001b[1;32mimport\u001b[0m \u001b[0mrandom\u001b[0m \u001b[1;32mas\u001b[0m \u001b[0mrand\u001b[0m\u001b[1;33m\u001b[0m\u001b[1;33m\u001b[0m\u001b[0m\n\u001b[1;32m----> 2\u001b[1;33m \u001b[1;32mimport\u001b[0m \u001b[0msortedcontainers\u001b[0m \u001b[1;32mas\u001b[0m \u001b[0msc\u001b[0m\u001b[1;33m\u001b[0m\u001b[1;33m\u001b[0m\u001b[0m\n\u001b[0m\u001b[0;32m      3\u001b[0m \u001b[1;32mimport\u001b[0m \u001b[0mbisect\u001b[0m\u001b[1;33m\u001b[0m\u001b[1;33m\u001b[0m\u001b[0m\n",
      "\u001b[1;31mModuleNotFoundError\u001b[0m: No module named 'sortedcontainers'"
     ]
    }
   ],
   "source": [
    "import random as rand\n",
    "import sortedcontainers as sc\n",
    "import bisect"
   ]
  },
  {
   "cell_type": "code",
   "execution_count": null,
   "metadata": {
    "pycharm": {
     "name": "#%%\n"
    }
   },
   "outputs": [],
   "source": [
    "## This is the linear hypergraph\n",
    "def getRandomLevel(p = 0.5):\n",
    "    lvl = 0\n",
    "    while rand.random() < p and lvl < float('inf'):\n",
    "        lvl = lvl + 1\n",
    "    return lvl + 1\n",
    "\n",
    "class HyperEdge:\n",
    "    def __init__(self):\n",
    "        self.nodes = []\n",
    "        self.min = float(\"inf\")\n",
    "        self.max = float(\"-inf\")\n",
    "        self.height = 0\n",
    "\n",
    "class LinearHyperGraph:\n",
    "    def __init__(self):\n",
    "        self.p = 0.5\n",
    "        self.height = getRandomLevel(self.p)\n",
    "        self.hedges = [HyperEdge() for i in range(self.height + 1)]\n",
    "\n",
    "    def lookup(self, nr):\n",
    "        for he in self.hedges:\n",
    "            if he.min <= nr <= he.max:\n",
    "                for e in range(-1, len(he.nodes) - 1):\n",
    "                    if he.nodes[e + 1] > nr:\n",
    "                        break\n",
    "                    elif he.nodes[e + 1] == nr:\n",
    "                        return True\n",
    "        return False\n",
    "\n",
    "    def findsert(self, nr, he):\n",
    "        L = len(he.nodes)\n",
    "        i = bisect.bisect_left(he.nodes, nr)\n",
    "        if i != L and he.nodes[i] == nr:\n",
    "            return False, False\n",
    "        else:\n",
    "            return i, he.nodes\n",
    "\n",
    "    def insert(self, nr):\n",
    "        height = getRandomLevel()\n",
    "        if self.height < height:\n",
    "            for i in range(height - self.height):\n",
    "                self.hedges.append(HyperEdge())\n",
    "            self.height = height\n",
    "\n",
    "        test = self.hedges[height - 1]\n",
    "\n",
    "        i, he = self.findsert(nr, test)\n",
    "\n",
    "        if i is not False:\n",
    "            he.insert(i, nr)\n",
    "            if test.min > nr:\n",
    "                test.min = nr\n",
    "            if test.max < nr:\n",
    "                test.max = nr\n",
    "        else:\n",
    "            return False\n",
    "\n",
    "    def show_hedges(self):\n",
    "        for i in self.hedges:\n",
    "            print(i.nodes)\n",
    "\n",
    "    def show_minmax(self):\n",
    "        for i in self.hedges:\n",
    "            print(f'min = {i.min} \\nmax = {i.max}')"
   ]
  },
  {
   "cell_type": "code",
   "execution_count": null,
   "metadata": {
    "pycharm": {
     "name": "#%%\n"
    }
   },
   "outputs": [],
   "source": [
    "## Generic Skip List\n",
    "\n",
    "# SkipList Naive\n",
    "class NodeSKP(object):\n",
    "    def __init__(self, key, level):\n",
    "        self.key = key\n",
    "        self.forward = [None]*(level+1)\n",
    "\n",
    "class SkipListNaive(object):\n",
    "    def __init__(self, max_lvl, P):\n",
    "        self.MAXLVL = max_lvl\n",
    "        self.P = P\n",
    "        self.header = self.createNode(self.MAXLVL, -1)\n",
    "        self.level = 0\n",
    "\n",
    "    def createNode(self, lvl, key):\n",
    "        n = NodeSKP(key, lvl)\n",
    "        return n\n",
    "\n",
    "    def randomLevel(self):\n",
    "        lvl = 0\n",
    "        while rand.random()<self.P and lvl<self.MAXLVL:lvl += 1\n",
    "        return lvl\n",
    "\n",
    "    def find(self, key):\n",
    "        current = self.header\n",
    "        for i in range(self.level, -1, -1):\n",
    "            while current.forward[i] and current.forward[i].key < key:\n",
    "                current = current.forward[i]\n",
    "        current = current.forward[0]\n",
    "        if current and current.key == key:\n",
    "            return key\n",
    "\n",
    "    def insert(self, key):\n",
    "        update = [None]*(self.MAXLVL+1)\n",
    "        current = self.header\n",
    "        for i in range(self.level, -1, -1):\n",
    "            while current.forward[i] and current.forward[i].key < key:\n",
    "                current = current.forward[i]\n",
    "            update[i] = current\n",
    "\n",
    "        current = current.forward[0]\n",
    "\n",
    "        if current == None or current.key != key:\n",
    "            rlevel = self.randomLevel()\n",
    "\n",
    "            if rlevel > self.level:\n",
    "                for i in range(self.level+1, rlevel+1):\n",
    "                    update[i] = self.header\n",
    "                self.level = rlevel\n",
    "\n",
    "            n = self.createNode(rlevel, key)\n",
    "\n",
    "            for i in range(rlevel+1):\n",
    "                n.forward[i] = update[i].forward[i]\n",
    "                update[i].forward[i] = n"
   ]
  },
  {
   "cell_type": "code",
   "execution_count": null,
   "metadata": {
    "pycharm": {
     "name": "#%%\n"
    }
   },
   "outputs": [],
   "source": [
    "## Insert benchmarks\n",
    "\n",
    "skeepNaive = SkipListNaive(10, 0.5)\n",
    "hgraph = LinearHyperGraph()\n",
    "hgraph.p = 0.5\n",
    "\n",
    "nr = 10000\n",
    "\n",
    "ten_thousand_integers = [rand.randint(1, 500000) for i in range(nr)]\n",
    "\n",
    "def ten_k_hg(HG):\n",
    "    for i in range(nr):\n",
    "        HG.insert(ten_thousand_integers[i])\n",
    "\n",
    "def ten_k_sl(skip):\n",
    "    for i in range(nr):\n",
    "        skip.insert(ten_thousand_integers[i])\n",
    "\n",
    "%timeit -r 1 -n 1 ten_k_hg(hgraph)\n",
    "%timeit -r 1 -n 1 ten_k_sl(skeepNaive)"
   ]
  },
  {
   "cell_type": "code",
   "execution_count": null,
   "metadata": {
    "pycharm": {
     "name": "#%%\n"
    }
   },
   "outputs": [],
   "source": [
    "## Find benchmarks / uniform distribution\n",
    "\n",
    "## Super slow lmfao\n",
    "def ten_k_hg(HG):\n",
    "    for i in range(nr):\n",
    "        HG.lookup(ten_thousand_integers[i])\n",
    "\n",
    "def ten_k_sl(skeep):\n",
    "    for i in range(nr):\n",
    "        skeep.find(ten_thousand_integers[i])\n",
    "\n",
    "%timeit -r 1 -n 1 ten_k_hg(hgraph)\n",
    "%timeit -r 1 -n 1 ten_k_sl(skeepNaive)\n"
   ]
  },
  {
   "cell_type": "code",
   "execution_count": null,
   "metadata": {
    "pycharm": {
     "name": "#%%\n"
    }
   },
   "outputs": [],
   "source": [
    "## This is the binary search hypergraph\n",
    "\n",
    "class BinaryHyperGraph:\n",
    "    def __init__(self):\n",
    "        self.p = 0.5\n",
    "        self.height = getRandomLevel(self.p)\n",
    "        self.hedges = [HyperEdge() for i in range(self.height + 1)]\n",
    "\n",
    "    def lookup(self, nr):\n",
    "        for he in self.hedges:\n",
    "            if he.min <= nr <= he.max:\n",
    "                L = len(he.nodes)\n",
    "                i = bisect.bisect_left(he.nodes, nr)\n",
    "                if i != L and he.nodes[i] == nr:\n",
    "                    return True\n",
    "        return False\n",
    "\n",
    "    def findsert(self, nr, he):\n",
    "        L = len(he.nodes)\n",
    "        i = bisect.bisect_left(he.nodes, nr)\n",
    "        if i != L and he.nodes[i] == nr:\n",
    "            return False, False\n",
    "        else:\n",
    "            return i, he.nodes\n",
    "\n",
    "    def insert(self, nr):\n",
    "\n",
    "        if self.lookup(nr) is False:\n",
    "\n",
    "        else:\n",
    "            return False\n",
    "\n",
    "        height = getRandomLevel()\n",
    "\n",
    "        if self.height < height:\n",
    "\n",
    "            for i in range(height - self.height):\n",
    "                self.hedges.append(HyperEdge())\n",
    "\n",
    "            self.height = height\n",
    "\n",
    "        test = self.hedges[height - 1]\n",
    "\n",
    "        i, he = self.findsert(nr, test)\n",
    "\n",
    "        if i is not False:\n",
    "            he.insert(i, nr)\n",
    "            if test.min > nr:\n",
    "                test.min = nr\n",
    "            if test.max < nr:\n",
    "                test.max = nr\n",
    "        else:\n",
    "            return False\n",
    "\n",
    "    def show_hedges(self):\n",
    "        for i in self.hedges:\n",
    "            print(i.nodes)\n",
    "\n",
    "    def show_minmax(self):\n",
    "        for i in self.hedges:\n",
    "            print(f'min = {i.min} \\nmax = {i.max}')"
   ]
  },
  {
   "cell_type": "code",
   "execution_count": null,
   "metadata": {
    "pycharm": {
     "name": "#%%\n"
    }
   },
   "outputs": [],
   "source": [
    "## Insert benchmarks\n",
    "\n",
    "skeepNaive = SkipListNaive(10, 0.5)\n",
    "hgraph = BinaryHyperGraph()\n",
    "hgraph.p = 0.5\n",
    "\n",
    "nr = 10000\n",
    "\n",
    "ten_thousand_integers = [rand.randint(1, 500000) for i in range(nr)]\n",
    "\n",
    "def ten_k_hg(HG):\n",
    "    for i in range(nr):\n",
    "        HG.insert(ten_thousand_integers[i])\n",
    "\n",
    "def ten_k_sl(skip):\n",
    "    for i in range(nr):\n",
    "        skip.insert(ten_thousand_integers[i])\n",
    "\n",
    "%timeit -r 1 -n 1 ten_k_hg(hgraph)\n",
    "%timeit -r 1 -n 1 ten_k_sl(skeepNaive)"
   ]
  },
  {
   "cell_type": "code",
   "execution_count": null,
   "metadata": {
    "pycharm": {
     "name": "#%%\n"
    }
   },
   "outputs": [],
   "source": [
    "## Find benchmarks / uniform distribution\n",
    "\n",
    "## Supa fast\n",
    "def ten_k_hg(HG):\n",
    "    for i in range(nr):\n",
    "        HG.lookup(ten_thousand_integers[i])\n",
    "\n",
    "def ten_k_sl(skeep):\n",
    "    for i in range(nr):\n",
    "        skeep.find(ten_thousand_integers[i])\n",
    "\n",
    "%timeit -r 1 -n 1 ten_k_hg(hgraph)\n",
    "%timeit -r 1 -n 1 ten_k_sl(skeepNaive)"
   ]
  },
  {
   "cell_type": "code",
   "execution_count": null,
   "metadata": {
    "pycharm": {
     "name": "#%%\n"
    }
   },
   "outputs": [],
   "source": [
    "hgraph.show_minmax()"
   ]
  },
  {
   "cell_type": "code",
   "execution_count": null,
   "metadata": {
    "pycharm": {
     "name": "#%%\n"
    }
   },
   "outputs": [],
   "source": [
    "# B+Tree hypergraph/list of list of lists\n",
    "\n",
    "\n",
    "class UltraHyperEdge:\n",
    "    def __init__(self):\n",
    "        self.nodes = sc.SortedList()\n",
    "        self.min = float(\"inf\")\n",
    "        self.max = float(\"-inf\")\n",
    "        self.height = 0\n",
    "\n",
    "class UltraHyperGraph:\n",
    "    def __init__(self):\n",
    "        self.p = 0.5\n",
    "        self.height = getRandomLevel(self.p)\n",
    "        self.hedges = [UltraHyperEdge() for i in range(self.height + 1)]\n",
    "\n",
    "    def lookup(self, nr):\n",
    "        for he in self.hedges:\n",
    "            #if he.min <= nr <= he.max:\n",
    "                #L = len(he.nodes)\n",
    "                #i = he.nodes.bisect_left(nr)\n",
    "                #if i != L and he.nodes[i] == nr:\n",
    "                if nr in he.nodes:\n",
    "                    return True\n",
    "        return False\n",
    "\n",
    "    def findsert(self, nr, he):\n",
    "        L = len(he.nodes)\n",
    "        i = he.nodes.bisect_left(nr)\n",
    "        if i != L and he.nodes[i] == nr:\n",
    "            return False, False\n",
    "        else:\n",
    "            return i, he.nodes\n",
    "\n",
    "    def insert(self, nr):\n",
    "        height = getRandomLevel()\n",
    "        if self.height < height:\n",
    "            for i in range(height - self.height):\n",
    "                self.hedges.append(UltraHyperEdge())\n",
    "            self.height = height\n",
    "\n",
    "        test = self.hedges[height - 1]\n",
    "\n",
    "        test.nodes.add(nr)\n",
    "\n",
    "        #if test.min > nr:\n",
    "        #    test.min = nr\n",
    "        #if test.max < nr:\n",
    "        #    test.max = nr\n",
    "\n",
    "    def show_hedges(self):\n",
    "        for i in self.hedges:\n",
    "            print(i.nodes)\n",
    "\n",
    "    def show_minmax(self):\n",
    "        for i in self.hedges:\n",
    "            print(f'min = {i.min} \\nmax = {i.max}')\n"
   ]
  },
  {
   "cell_type": "code",
   "execution_count": null,
   "metadata": {
    "pycharm": {
     "name": "#%%\n"
    }
   },
   "outputs": [],
   "source": [
    "## Insert benchmarks\n",
    "\n",
    "skeepNaive = SkipListNaive(10, 0.5)\n",
    "hgraph = UltraHyperGraph()\n",
    "hgraph.p = 0.5\n",
    "\n",
    "nr = 10000\n",
    "\n",
    "ten_thousand_integers = [rand.randint(1, 500000) for i in range(nr)]\n",
    "\n",
    "def ten_k_hg(HG):\n",
    "    for i in range(nr):\n",
    "        HG.insert(ten_thousand_integers[i])\n",
    "\n",
    "def ten_k_sl(skip):\n",
    "    for i in range(nr):\n",
    "        skip.insert(ten_thousand_integers[i])\n",
    "\n",
    "%timeit -r 1 -n 1 ten_k_hg(hgraph)\n",
    "%timeit -r 1 -n 1 ten_k_sl(skeepNaive)"
   ]
  },
  {
   "cell_type": "code",
   "execution_count": null,
   "metadata": {
    "pycharm": {
     "name": "#%%\n"
    }
   },
   "outputs": [],
   "source": [
    "## Find benchmarks / uniform distribution\n",
    "\n",
    "## Supa fast\n",
    "def ten_k_hg(HG):\n",
    "    for i in range(nr):\n",
    "        HG.lookup(ten_thousand_integers[i])\n",
    "\n",
    "def ten_k_sl(skeep):\n",
    "    for i in range(nr):\n",
    "        skeep.find(ten_thousand_integers[i])\n",
    "\n",
    "%timeit -r 1 -n 1 ten_k_hg(hgraph)\n",
    "%timeit -r 1 -n 1 ten_k_sl(skeepNaive)"
   ]
  },
  {
   "cell_type": "code",
   "execution_count": null,
   "metadata": {
    "pycharm": {
     "name": "#%%\n"
    }
   },
   "outputs": [],
   "source": [
    "hgraph.show_hedges()\n",
    "hgraph.show_minmax()"
   ]
  }
 ],
 "metadata": {
  "kernelspec": {
   "display_name": "Python 3",
   "language": "python",
   "name": "python3"
  },
  "language_info": {
   "codemirror_mode": {
    "name": "ipython",
    "version": 3
   },
   "file_extension": ".py",
   "mimetype": "text/x-python",
   "name": "python",
   "nbconvert_exporter": "python",
   "pygments_lexer": "ipython3",
   "version": "3.7.9"
  }
 },
 "nbformat": 4,
 "nbformat_minor": 1
}

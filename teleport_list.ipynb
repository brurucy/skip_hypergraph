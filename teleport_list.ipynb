{
 "cells": [
  {
   "cell_type": "code",
   "execution_count": 585,
   "metadata": {
    "collapsed": true,
    "pycharm": {
     "name": "#%%\n"
    }
   },
   "outputs": [],
   "source": [
    "import random as rand\n",
    "import copy as copy\n",
    "from operator import attrgetter\n",
    "from time import time\n",
    "from sortedcontainers import SortedList\n",
    "import bisect\n",
    "from itertools import accumulate"
   ]
  },
  {
   "cell_type": "code",
   "execution_count": 549,
   "outputs": [],
   "source": [
    "def getRandomLevel(p = 0.5):\n",
    "    lvl = 0\n",
    "    while rand.random() < p and lvl < float('inf'):\n",
    "        lvl = lvl + 1\n",
    "    return lvl\n",
    "\n",
    "class MinMaxList:\n",
    "    def __init__(self):\n",
    "        self.nodes = []\n",
    "        self.min = float(\"inf\")\n",
    "        self.max = float(\"-inf\")\n",
    "        self.height = 0\n",
    "\n",
    "class TeleportList:\n",
    "    def __init__(self):\n",
    "        self.p = 0.5\n",
    "        self.height = getRandomLevel(self.p)\n",
    "        self.hedges = [MinMaxList() for i in range(self.height + 1)]\n",
    "\n",
    "    def lookup_dumb(self, nr):\n",
    "        for he in self.hedges:\n",
    "            if he.min <= nr <= he.max:\n",
    "                L = len(he.nodes)\n",
    "                i = bisect.bisect_left(he.nodes, nr)\n",
    "                if i != L and he.nodes[i] == nr:\n",
    "                    return True\n",
    "        return False\n",
    "\n",
    "    def lookup_subroutine(self, he, nr):\n",
    "        L = len(he.nodes)\n",
    "        i = bisect.bisect_left(he.nodes, nr)\n",
    "        if i != L and he.nodes[i] == nr:\n",
    "            return True\n",
    "        else:\n",
    "            return False\n",
    "\n",
    "    def lookup(self, nr):\n",
    "        for i in self.hedges:\n",
    "            if i.min > nr:\n",
    "                return False\n",
    "            elif nr == i.min or nr == i.max:\n",
    "                return True\n",
    "            else:\n",
    "                if i.max >= nr:\n",
    "                    L = len(i.nodes)\n",
    "                    j = bisect.bisect_left(i.nodes, nr)\n",
    "                    if j != L and i.nodes[j] == nr:\n",
    "                        return True\n",
    "\n",
    "    def findsert(self, nr, he):\n",
    "        L = len(he.nodes)\n",
    "        i = bisect.bisect_left(he.nodes, nr)\n",
    "        if i != L and he.nodes[i] == nr:\n",
    "            return False, False\n",
    "        else:\n",
    "            return i, he.nodes\n",
    "\n",
    "    def insert(self, nr):\n",
    "\n",
    "        height = getRandomLevel()\n",
    "\n",
    "        if self.height < height:\n",
    "\n",
    "            for i in range(height - self.height):\n",
    "                self.hedges.append(MinMaxList())\n",
    "\n",
    "            self.height = height\n",
    "\n",
    "        test = self.hedges[height - 1]\n",
    "\n",
    "        i, he = self.findsert(nr, test)\n",
    "\n",
    "        if i is not False:\n",
    "            he.insert(i, nr)\n",
    "            if test.min > nr:\n",
    "                test.min = nr\n",
    "            if test.max < nr:\n",
    "                test.max = nr\n",
    "            self.hedges.sort(key=attrgetter('min'))\n",
    "        else:\n",
    "            return False\n",
    "\n",
    "    def show_hedges(self):\n",
    "        for i in self.hedges:\n",
    "            print(i.nodes)\n",
    "\n",
    "    def show_minmax(self):\n",
    "        for i in self.hedges:\n",
    "            print(f'min = {i.min} \\nmax = {i.max}')\n"
   ],
   "metadata": {
    "collapsed": false,
    "pycharm": {
     "name": "#%%\n"
    }
   }
  },
  {
   "cell_type": "code",
   "execution_count": 422,
   "outputs": [],
   "source": [
    "class NodeSKP(object):\n",
    "    def __init__(self, key, level):\n",
    "        self.key = key\n",
    "        self.forward = [None]*(level+1)\n",
    "\n",
    "class SkipListNaive(object):\n",
    "    def __init__(self, max_lvl, P):\n",
    "        self.MAXLVL = max_lvl\n",
    "        self.P = P\n",
    "        self.header = self.createNode(self.MAXLVL, -1)\n",
    "        self.level = 0\n",
    "\n",
    "    def createNode(self, lvl, key):\n",
    "        n = NodeSKP(key, lvl)\n",
    "        return n\n",
    "\n",
    "    def randomLevel(self):\n",
    "        lvl = 0\n",
    "        while rand.random()<self.P and lvl<self.MAXLVL:lvl += 1\n",
    "        return lvl\n",
    "\n",
    "    def find(self, key):\n",
    "        current = self.header\n",
    "        for i in range(self.level, -1, -1):\n",
    "            while current.forward[i] and current.forward[i].key < key:\n",
    "                current = current.forward[i]\n",
    "        current = current.forward[0]\n",
    "        if current and current.key == key:\n",
    "            return key\n",
    "\n",
    "    def insert(self, key):\n",
    "        update = [None]*(self.MAXLVL+1)\n",
    "        current = self.header\n",
    "        for i in range(self.level, -1, -1):\n",
    "            while current.forward[i] and current.forward[i].key < key:\n",
    "                current = current.forward[i]\n",
    "            update[i] = current\n",
    "\n",
    "        current = current.forward[0]\n",
    "\n",
    "        if current is None or current.key != key:\n",
    "            rlevel = self.randomLevel()\n",
    "\n",
    "            if rlevel > self.level:\n",
    "                for i in range(self.level+1, rlevel+1):\n",
    "                    update[i] = self.header\n",
    "                self.level = rlevel\n",
    "\n",
    "            n = self.createNode(rlevel, key)\n",
    "\n",
    "            for i in range(rlevel+1):\n",
    "                n.forward[i] = update[i].forward[i]\n",
    "                update[i].forward[i] = n"
   ],
   "metadata": {
    "collapsed": false,
    "pycharm": {
     "name": "#%%\n"
    }
   }
  },
  {
   "cell_type": "code",
   "execution_count": 587,
   "outputs": [
    {
     "name": "stdout",
     "output_type": "stream",
     "text": [
      "621 ms ± 0 ns per loop (mean ± std. dev. of 1 run, 1 loop each)\n",
      "1.15 s ± 0 ns per loop (mean ± std. dev. of 1 run, 1 loop each)\n",
      "166 ms ± 0 ns per loop (mean ± std. dev. of 1 run, 1 loop each)\n"
     ]
    }
   ],
   "source": [
    "hgraph = TeleportList()\n",
    "hgraph.p = 0.5\n",
    "skeepNaive = SkipListNaive(10, 0.5)\n",
    "slist = SortedList()\n",
    "\n",
    "nr = 100000\n",
    "\n",
    "ten_thousand_integers = [rand.randint(1, 2000000) for i in range(nr)]\n",
    "\n",
    "def ten_k_hg(HG):\n",
    "    for i in range(nr):\n",
    "        HG.insert(ten_thousand_integers[i])\n",
    "\n",
    "def ten_k_sl(sl):\n",
    "    for i in range(nr):\n",
    "        sl.add(ten_thousand_integers[i])\n",
    "\n",
    "def ten_k_skeep(skeep):\n",
    "    for i in range(nr):\n",
    "        skeep.insert(ten_thousand_integers[i])\n",
    "\n",
    "%timeit -r 1 -n 1 ten_k_hg(hgraph)\n",
    "%timeit -r 1 -n 1 ten_k_skeep(skeepNaive)\n",
    "%timeit -r 1 -n 1 ten_k_sl(slist)"
   ],
   "metadata": {
    "collapsed": false,
    "pycharm": {
     "name": "#%%\n"
    }
   }
  },
  {
   "cell_type": "code",
   "execution_count": 590,
   "outputs": [
    {
     "name": "stdout",
     "output_type": "stream",
     "text": [
      "882 ms ± 0 ns per loop (mean ± std. dev. of 1 run, 1 loop each)\n",
      "667 ms ± 0 ns per loop (mean ± std. dev. of 1 run, 1 loop each)\n",
      "1.68 s ± 0 ns per loop (mean ± std. dev. of 1 run, 1 loop each)\n",
      "116 ms ± 0 ns per loop (mean ± std. dev. of 1 run, 1 loop each)\n"
     ]
    }
   ],
   "source": [
    "def ten_k_hg(HG):\n",
    "    for i in range(nr):\n",
    "        HG.lookup(ten_thousand_integers[i])\n",
    "\n",
    "def ten_k_hg_lookup_dumb(HG):\n",
    "    for i in range(nr):\n",
    "        HG.lookup_dumb(ten_thousand_integers[i])\n",
    "\n",
    "def ten_k_skeep(skeep):\n",
    "    for i in range(nr):\n",
    "        skeep.find(ten_thousand_integers[i])\n",
    "\n",
    "def ten_k_sl(sl):\n",
    "    for i in range(nr):\n",
    "        ten_thousand_integers[i] in sl\n",
    "\n",
    "%timeit -r 1 -n 1 ten_k_hg(hgraph)\n",
    "%timeit -r 1 -n 1 ten_k_hg_lookup_dumb(hgraph)\n",
    "%timeit -r 1 -n 1 ten_k_skeep(skeepNaive)\n",
    "%timeit -r 1 -n 1 ten_k_sl(slist)"
   ],
   "metadata": {
    "collapsed": false,
    "pycharm": {
     "name": "#%%\n"
    }
   }
  },
  {
   "cell_type": "code",
   "execution_count": 548,
   "outputs": [
    {
     "name": "stdout",
     "output_type": "stream",
     "text": [
      "[23896, 170718, 221645, 229694, 308302, 636022, 841494, 1028133, 1119877, 1237642, 1403851, 1421175, 1622180, 1641284, 1687032, 1790836, 1793317]\n",
      "[43010, 343684, 858514, 1351067, 1593411, 1680660, 1711825, 1719791, 1906725, 1927100]\n",
      "[65911, 147436, 152351, 193420, 202429, 264321, 331148, 537136, 554897, 558010, 696805, 943720, 1010683, 1114930, 1655903, 1985831]\n",
      "[81439, 211609, 459873, 1027366, 1238701, 1414001]\n",
      "[106295, 342204, 488908, 847990, 964992, 978342, 1013370, 1018935, 1090526, 1132515, 1591227, 1665980, 1848419, 1868673, 1963394, 1987491]\n",
      "[181775, 590503, 637956, 772665, 961858, 996374, 1070950, 1092245, 1101005, 1144589, 1315936, 1487448, 1781884, 1793515, 1832314, 1853695, 1928272]\n",
      "[204205, 301220, 450112, 1203689]\n",
      "[223532, 502419, 738534, 1261973, 1346969]\n",
      "[229711, 283040, 344336, 788664, 828107, 951482, 1312029, 1874728, 1965358]\n"
     ]
    }
   ],
   "source": [
    "hgraph.show_hedges()"
   ],
   "metadata": {
    "collapsed": false,
    "pycharm": {
     "name": "#%%\n"
    }
   }
  }
 ],
 "metadata": {
  "kernelspec": {
   "display_name": "Python 3",
   "language": "python",
   "name": "python3"
  },
  "language_info": {
   "codemirror_mode": {
    "name": "ipython",
    "version": 2
   },
   "file_extension": ".py",
   "mimetype": "text/x-python",
   "name": "python",
   "nbconvert_exporter": "python",
   "pygments_lexer": "ipython2",
   "version": "2.7.6"
  }
 },
 "nbformat": 4,
 "nbformat_minor": 0
}
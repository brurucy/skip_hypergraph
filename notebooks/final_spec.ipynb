{
 "cells": [
  {
   "cell_type": "code",
   "execution_count": 1,
   "metadata": {},
   "outputs": [],
   "source": [
    "from operator import attrgetter\n",
    "from sortedcontainers import SortedList\n",
    "import bisect\n",
    "import math\n",
    "import random as random\n",
    "from pyroaring import BitMap\n",
    "from multiprocessing import Process, Queue\n",
    "\n",
    "def binarysearch(a, x):\n",
    "    i = bisect.bisect_left(a, x)\n",
    "    if i != len(a) and a[i] == x:\n",
    "        #print(a[i], x)\n",
    "        return True\n",
    "    else:\n",
    "        return False"
   ]
  },
  {
   "cell_type": "markdown",
   "metadata": {},
   "source": [
    "# Welcome.\n",
    "\n",
    "In this notebook there are 3 algorithms:\n",
    "\n",
    "* Roaring Teleport Lists\n",
    "* Roaring Split List\n",
    "* Split List\n",
    "\n",
    "**Roaring** refers to the usage of [Roaring Bitmaps](https://arxiv.org/pdf/1603.06549.pdf) as indexes.\n",
    "\n",
    "That are compared with `sortedcontainers`'s SortedList.\n",
    "\n",
    "## Invariants\n",
    "\n",
    "All data structures have the following invariants:\n",
    "\n",
    "* Geometrically distributed random heights that hold both the data and the indexes\n",
    "* Clever use of min and max values in order to speed up lookups and inserts"
   ]
  },
  {
   "cell_type": "markdown",
   "metadata": {
    "pycharm": {
     "name": "#%% md\n"
    }
   },
   "source": [
    "### Roaring MinMaxDict\n",
    "\n",
    "This is the container that will hold both the indexes and the data within each \"height\"."
   ]
  },
  {
   "cell_type": "code",
   "execution_count": 2,
   "metadata": {
    "collapsed": false,
    "jupyter": {
     "outputs_hidden": false
    },
    "pycharm": {
     "name": "#%%\n"
    }
   },
   "outputs": [],
   "source": [
    "class RoaringMinMaxDict(dict):\n",
    "    def __init__(self, *arg, **kwargs):\n",
    "        super().__init__()\n",
    "        self.indexes = BitMap()\n",
    "        self.max = float('-inf')\n",
    "        self.min = float('inf')\n",
    "\n",
    "    def insert(self, key, value=None):\n",
    "        self.indexes.add(key)\n",
    "        self.max = self.indexes.max()\n",
    "        self.min = self.indexes.min()\n",
    "        dict.__setitem__(self, key, value)\n",
    "\n",
    "    ## Deletes a VALUE\n",
    "    def delete(self, key):\n",
    "        self[key] = '<deleted>'\n",
    "\n",
    "    ## Discards a VALUE/wipes it out of the index and dict\n",
    "    def discard(self, key):\n",
    "        self.pop(key)\n",
    "        self.indexes.discard(key)\n",
    "        self.max = self.indexes.max()\n",
    "        self.min = self.indexes.min()\n",
    "\n",
    "    def __lt__(self, other):\n",
    "        return self.indexes.min() < other"
   ]
  },
  {
   "cell_type": "markdown",
   "metadata": {
    "pycharm": {
     "name": "#%% md\n"
    }
   },
   "source": [
    "## Teleport List\n",
    "\n",
    "This is the Teleport list, the fastest data structure we have for inserts and deletions."
   ]
  },
  {
   "cell_type": "code",
   "execution_count": 3,
   "metadata": {
    "collapsed": false,
    "jupyter": {
     "outputs_hidden": false
    },
    "pycharm": {
     "name": "#%%\n"
    }
   },
   "outputs": [],
   "source": [
    "class TeleportList:\n",
    "\n",
    "    def __init__(self):\n",
    "        self.height = -1\n",
    "        self.subdicts = []\n",
    "\n",
    "    def insert(self, key, value=None):\n",
    "\n",
    "        height = int(-(math.log2(random.random())))\n",
    "\n",
    "        if self.height < height:\n",
    "            for i in range(height - self.height):\n",
    "                self.subdicts.append(RoaringMinMaxDict())\n",
    "            self.height = height\n",
    "\n",
    "        highest = self.subdicts[height]\n",
    "\n",
    "        if key not in highest.indexes:\n",
    "            highest.insert(key, value)\n",
    "\n",
    "    def lookup(self, key):\n",
    "\n",
    "        for i in self.subdicts:\n",
    "            if i.min <= key <= i.max:\n",
    "                if key in i.indexes:\n",
    "                    return i[key]\n",
    "        return False\n",
    "\n",
    "    def delete(self, key):\n",
    "        for i in self.subdicts:\n",
    "            if i.min <= key <= i.max:\n",
    "                if key in i.indexes:\n",
    "                    i.delete(key)\n",
    "\n",
    "    def discard(self, key):\n",
    "        for i in self.subdicts:\n",
    "            if i.min <= key <= i.max:\n",
    "                if key in i.indexes:\n",
    "                    i.discard(key)\n",
    "\n",
    "    def show_hedges(self):\n",
    "        for i in self.subdicts:\n",
    "            print(i.indexes)\n",
    "\n",
    "    def show_minmax(self):\n",
    "        for i in self.subdicts:\n",
    "            print(f'({i.min}, {i.max})')"
   ]
  },
  {
   "cell_type": "markdown",
   "metadata": {
    "pycharm": {
     "name": "#%% md\n"
    }
   },
   "source": [
    "### Roaring MaxDict\n",
    "\n",
    "This is the container that will hold both the indexes and the data within each \"height\"."
   ]
  },
  {
   "cell_type": "code",
   "execution_count": 4,
   "metadata": {
    "collapsed": false,
    "jupyter": {
     "outputs_hidden": false
    },
    "pycharm": {
     "name": "#%%\n"
    }
   },
   "outputs": [],
   "source": [
    "class RoaringMaxDict(dict):\n",
    "    def __init__(self, nr):\n",
    "        super().__init__()\n",
    "        self.indexes = BitMap()\n",
    "        self.indexes.add(nr)\n",
    "        self.max = float(\"-inf\")\n",
    "\n",
    "    def insert(self, key, value=None):\n",
    "        self.indexes.add(key)\n",
    "        self.max = self.indexes.max()\n",
    "        dict.__setitem__(self, key, value)\n",
    "\n",
    "    def delete(self, key):\n",
    "        self[key] = '<deleted>'\n",
    "\n",
    "    def __lt__(self, other):\n",
    "        if isinstance(other, int):\n",
    "            return self.max < other\n",
    "        else:\n",
    "            return self.max < other.max\n",
    "\n",
    "class SortableSubList:\n",
    "    def __init__(self):\n",
    "        self.sublists = []"
   ]
  },
  {
   "cell_type": "markdown",
   "metadata": {
    "pycharm": {
     "name": "#%% md\n"
    }
   },
   "source": [
    "## Split List\n",
    "\n",
    "This is the Split list, the most stable data structure we have."
   ]
  },
  {
   "cell_type": "code",
   "execution_count": 5,
   "metadata": {
    "collapsed": false,
    "jupyter": {
     "outputs_hidden": false
    },
    "pycharm": {
     "name": "#%%\n"
    }
   },
   "outputs": [],
   "source": [
    "def splitter_two(arr, load):\n",
    "    half = load // 2\n",
    "    zs = arr[0:half]\n",
    "    arr = arr.difference(zs)\n",
    "    return zs\n",
    "\n",
    "# if overload is detected, splits and adds a new split into levellist\n",
    "def Overload(blist, i, load):\n",
    "    B = RoaringMaxDict(5)\n",
    "    candidate_sublist = blist.sublists[i]\n",
    "    B.indexes = splitter_two(candidate_sublist.indexes, load)\n",
    "    B.max = B.indexes.max()\n",
    "    bisect.insort_left(blist.sublists, B)\n",
    "\n",
    "class RoaringSplitList:\n",
    "    def __init__(self):\n",
    "        self.height = -1\n",
    "        self.blists = []\n",
    "        self.load = 2000\n",
    "\n",
    "    def lookup(self, nr):\n",
    "        for he in self.blists:\n",
    "            if nr <= he.sublists[-1].max:\n",
    "                i = bisect.bisect_left(he.sublists, nr)\n",
    "                if  i != len(he.sublists) and he.sublists[i].indexes[0] <= nr:\n",
    "                    if nr in he.sublists[i].indexes:\n",
    "                        return True\n",
    "        print(nr) #can be used to detect if the search works or not\n",
    "        return nr\n",
    "\n",
    "    def insert(self, nr):\n",
    "        ## Getting the estimated geometric distribution\n",
    "        height = int(-(math.log2(random.random())))\n",
    "        ## Checking whether we need to add new edges\n",
    "        if self.height < height:\n",
    "            for i in range(height - self.height):\n",
    "                B = SortableSubList()\n",
    "                C = RoaringMaxDict(nr)\n",
    "                B.sublists.append(C)\n",
    "                self.blists.append(B)\n",
    "            self.height = height\n",
    "\n",
    "        ## Getting the to-be-added list\n",
    "        blist = self.blists[height]\n",
    "\n",
    "        L = len(blist.sublists)\n",
    "        i = bisect.bisect_left(blist.sublists, nr)\n",
    "\n",
    "        if i == 0 or L == 1:\n",
    "            updated_maxlist = blist.sublists[0]\n",
    "            updated_maxlist.insert(nr)\n",
    "            if len(updated_maxlist.indexes) == self.load:\n",
    "                    Overload(blist, 0, self.load)\n",
    "        elif i == L:\n",
    "            updated_maxlist = blist.sublists[-1]\n",
    "            updated_maxlist.insert(nr)\n",
    "            if len(updated_maxlist.indexes) == self.load:\n",
    "                    Overload(blist, i-1, self.load)\n",
    "\n",
    "        else:\n",
    "            updated_maxlist = blist.sublists[i]\n",
    "            if updated_maxlist.indexes[0] <= nr:\n",
    "                updated_maxlist.indexes.add(nr)\n",
    "                if len(blist.sublists[i].indexes) == self.load:\n",
    "                    Overload(blist, i, self.load)\n",
    "            else:\n",
    "                updated_maxlist = blist.sublists[i-1]\n",
    "                updated_maxlist.insert(nr)\n",
    "                if len(updated_maxlist.indexes) == self.load:\n",
    "                    Overload(blist, i-1, self.load)\n",
    "\n",
    "    def show_hedges(self):\n",
    "        for i in self.blists:\n",
    "            maxes = [j.max for j in i.sublists]\n",
    "            print(maxes)\n",
    "\n",
    "    def show_edges(self):\n",
    "        for i in self.blists:\n",
    "            print(\"--------\" + str(len(i.sublists)) +\"-----------\")\n",
    "            for j in i.sublists:\n",
    "                print(j.indexes)\n",
    "\n",
    "    def show_minmax(self):\n",
    "        for i in self.blists:\n",
    "            print(f'({i.min}, {i.max})')"
   ]
  },
  {
   "cell_type": "markdown",
   "metadata": {
    "pycharm": {
     "name": "#%% md\n"
    }
   },
   "source": [
    "## Split List"
   ]
  },
  {
   "cell_type": "code",
   "execution_count": 6,
   "metadata": {
    "collapsed": false,
    "jupyter": {
     "outputs_hidden": false
    },
    "pycharm": {
     "name": "#%%\n"
    }
   },
   "outputs": [],
   "source": [
    "#splits the overloaded list into two consecutive parts\n",
    "def splitterSimple(arr, load):\n",
    "    half = load // 2\n",
    "    zs = [0] * half\n",
    "    for i in range(half-1, -1, -1):\n",
    "        zs[i] = arr.pop()\n",
    "    return zs\n",
    "\n",
    "# if overload is detected, splits and adds a new split into levellist\n",
    "def OverloadSimple(blist, i, load):\n",
    "    B = IntervalList(5)\n",
    "    candidate_sublist = blist.sublists[i]\n",
    "    B.indexes = splitterSimple(candidate_sublist.indexes, load)\n",
    "    #B.i = - blist.sublists[i].i - 1\n",
    "    B.max = candidate_sublist.max\n",
    "    candidate_sublist.max = candidate_sublist.indexes[-1]\n",
    "    blist.sublists.insert(i+1, B)\n",
    "\n",
    "class IntervalList:\n",
    "    def __init__(self, nr):\n",
    "        self.indexes = [nr]\n",
    "        self.max = float(\"-inf\")\n",
    "\n",
    "    def __lt__(self, other):\n",
    "        if isinstance(other, int):\n",
    "            return self.max < other\n",
    "        else:\n",
    "            return self.max < other.max\n",
    "\n",
    "class LevelList:\n",
    "    def __init__(self):\n",
    "        self.sublists = []\n",
    "        self.min = float(\"inf\")\n",
    "        self.max = float(\"-inf\")\n",
    "\n",
    "    def __lt__(self, other):\n",
    "        return self.max > other\n",
    "\n",
    "class SplitList:# Rucy, rename it!\n",
    "    def __init__(self):\n",
    "        self.height = -1\n",
    "        self.blists = []\n",
    "        self.load = 2000\n",
    "\n",
    "\n",
    "    def lookup(self, nr):\n",
    "\n",
    "        for he in self.blists:\n",
    "\n",
    "            if nr <= he.sublists[-1].max:\n",
    "                i = bisect.bisect_left(he.sublists, nr)\n",
    "\n",
    "                if  i != len(he.sublists) and he.sublists[i].indexes[0] <= nr:\n",
    "                    if binarysearch(he.sublists[i].indexes, nr):\n",
    "                        return True\n",
    "        #print(nr) #can be used to detect if the search works or not\n",
    "        return nr\n",
    "\n",
    "    def insert(self, nr):\n",
    "        ## Getting the estimated geometric distribution\n",
    "        height = int(-(math.log2(random.random())))\n",
    "        ## Checking whether we need to add new edges\n",
    "        if self.height < height:\n",
    "            for i in range(height - self.height):\n",
    "                B = LevelList()\n",
    "                C = IntervalList(nr)\n",
    "                C.max = -1 #arbitrary contemporary max\n",
    "                B.sublists.append(C)\n",
    "                self.blists.append(B)\n",
    "            self.height = height\n",
    "\n",
    "        ## Getting the to-be-added list\n",
    "        blist = self.blists[height]\n",
    "\n",
    "        ## Doing the search to see which Intervallist it should be in\n",
    "        L = len(blist.sublists)\n",
    "        i = bisect.bisect_left(blist.sublists, nr)\n",
    "\n",
    "        ## If it's smaller than all other elements then just insort it\n",
    "        if i == 0 or L == 1:\n",
    "            candid = blist.sublists[0]\n",
    "            bisect.insort_left(candid.indexes, nr)\n",
    "            candid.max = candid.indexes[-1]\n",
    "            if len(candid.indexes) == self.load:\n",
    "                    OverloadSimple(blist, 0, self.load)\n",
    "        ## If it's bigger than all the other elements than just append it\n",
    "        elif i == L:\n",
    "            candid = blist.sublists[-1]\n",
    "            candid.indexes.append(nr)\n",
    "            candid.max = nr\n",
    "            if len(candid.indexes) == self.load:\n",
    "                    OverloadSimple(blist, i-1, self.load)\n",
    "\n",
    "            ## Else add it\n",
    "        else:\n",
    "            candidate_sublist = blist.sublists[i]\n",
    "            # if the element is also bigger than the minimum of the current list than we insort it\n",
    "            if candidate_sublist.indexes[0] <= nr:\n",
    "                bisect.insort_left(candidate_sublist.indexes, nr)\n",
    "\n",
    "                if len(blist.sublists[i].indexes) == self.load:\n",
    "                    OverloadSimple(blist, i, self.load)\n",
    "            # then the element must be smaller then the min of the current list but therefore\n",
    "            # bigger than the max of the previous list-- so we just append it\n",
    "            else:\n",
    "                candidate_sublist = blist.sublists[i-1]\n",
    "                candidate_sublist.indexes.append(nr)\n",
    "                candidate_sublist.max = nr\n",
    "\n",
    "                if len(candidate_sublist.indexes) == self.load:\n",
    "                    OverloadSimple(blist, i-1, self.load)\n",
    "\n",
    "    def show_hedges(self):\n",
    "        for i in self.blists:\n",
    "            maxes = [j.max for j in i.sublists]\n",
    "            print(maxes)\n",
    "\n",
    "    def show_edges(self):\n",
    "        for i in self.blists:\n",
    "            print(\"--------\" + str(len(i.sublists)) +\"-----------\")\n",
    "            for j in i.sublists:\n",
    "                print(j.indexes)\n",
    "\n",
    "    def show_minmax(self):\n",
    "        for i in self.blists:\n",
    "            print(f'({i.min}, {i.max})')"
   ]
  },
  {
   "cell_type": "markdown",
   "metadata": {
    "pycharm": {
     "name": "#%% md\n"
    }
   },
   "source": [
    "# Benchmarks.\n",
    "\n",
    "Let's do some simple ones.\n",
    "\n",
    "Insert and lookup of 1 million elements."
   ]
  },
  {
   "cell_type": "code",
   "execution_count": 11,
   "metadata": {
    "collapsed": false,
    "jupyter": {
     "outputs_hidden": false
    },
    "pycharm": {
     "name": "#%%\n"
    }
   },
   "outputs": [
    {
     "name": "stdout",
     "output_type": "stream",
     "text": [
      "1.9 s ± 0 ns per loop (mean ± std. dev. of 1 run, 1 loop each)\n",
      "1.87 s ± 0 ns per loop (mean ± std. dev. of 1 run, 1 loop each)\n",
      "2.82 s ± 0 ns per loop (mean ± std. dev. of 1 run, 1 loop each)\n",
      "3.79 s ± 0 ns per loop (mean ± std. dev. of 1 run, 1 loop each)\n"
     ]
    }
   ],
   "source": [
    "random.seed(0)\n",
    "\n",
    "tlist = TeleportList()\n",
    "rslist = RoaringSplitList()\n",
    "slist = SortedList()\n",
    "splist = SplitList()\n",
    "\n",
    "nr = 1000000\n",
    "\n",
    "ten_thousand_integers = [random.randint(1, 2000000) for i in range(nr)]\n",
    "\n",
    "def insert_tlist(tl):\n",
    "    for i in range(nr):\n",
    "        tl.insert(ten_thousand_integers[i])\n",
    "\n",
    "def insert_rslist(rtl):\n",
    "    for i in range(nr):\n",
    "        rtl.insert(ten_thousand_integers[i])\n",
    "\n",
    "def insert_slist(sl):\n",
    "    for i in range(nr):\n",
    "        sl.add(ten_thousand_integers[i])\n",
    "\n",
    "def insert_nlist(novus):\n",
    "    for i in range(nr):\n",
    "        novus.insert(ten_thousand_integers[i])\n",
    "\n",
    "%timeit -r 1 -n 1 insert_tlist(tlist)\n",
    "%timeit -r 1 -n 1 insert_rslist(rslist)\n",
    "%timeit -r 1 -n 1 insert_slist(slist)\n",
    "%timeit -r 1 -n 1 insert_nlist(splist)"
   ]
  },
  {
   "cell_type": "code",
   "execution_count": null,
   "metadata": {
    "collapsed": false,
    "jupyter": {
     "outputs_hidden": false
    },
    "pycharm": {
     "name": "#%%\n"
    }
   },
   "outputs": [],
   "source": [
    "def lookup_tlist(tl):\n",
    "    for i in range(nr):\n",
    "        tl.lookup(ten_thousand_integers[i])\n",
    "\n",
    "def lookup_rslist(rtl):\n",
    "    for i in range(nr):\n",
    "        rtl.lookup(ten_thousand_integers[i])\n",
    "\n",
    "def lookup_slist(sl):\n",
    "    for i in range(nr):\n",
    "        ten_thousand_integers[i] in sl\n",
    "\n",
    "def lookup_nlist(novus):\n",
    "    for i in range(nr):\n",
    "        novus.lookup(ten_thousand_integers[i])\n",
    "\n",
    "%timeit -r 10 -n 1 lookup_tlist(tlist)\n",
    "%timeit -r 10 -n 1 lookup_rslist(rslist)\n",
    "%timeit -r 10 -n 1 lookup_slist(slist)\n",
    "%timeit -r 10 -n 1 lookup_nlist(splist)"
   ]
  },
  {
   "cell_type": "markdown",
   "metadata": {},
   "source": [
    "## Benchmarking Parallelized SplitList\n",
    "\n",
    "> vs regular SplitList\n",
    "\n",
    "Make sure to **restart the kernel** if you made any changes to the parallelized SplitList class."
   ]
  },
  {
   "cell_type": "code",
   "execution_count": 11,
   "metadata": {},
   "outputs": [],
   "source": [
    "from splitlist_parallel import SplitList as SplitListParallelized\n",
    "from splitlist_parallel2 import SplitList as SplitListParallelized2\n",
    "\n",
    "# inserts\n",
    "def test_insert(lst, reps):\n",
    "    for i in range(reps):\n",
    "        lst.insert(ten_thousand_integers[i])\n",
    "        \n",
    "\n",
    "# lookups\n",
    "def test_lookup(lst, reps):\n",
    "    for i in range(reps):\n",
    "        lst.lookup(ten_thousand_integers[i])"
   ]
  },
  {
   "cell_type": "code",
   "execution_count": 12,
   "metadata": {},
   "outputs": [],
   "source": [
    "random.seed(0)\n",
    "\n",
    "split_list = SplitList()\n",
    "split_list_parallel = SplitListParallelized()\n",
    "split_list_parallel2 = SplitListParallelized2()\n",
    "\n",
    "nr = 1_000_000\n",
    "ten_thousand_integers = [random.randint(1, 2000000) for i in range(nr)]"
   ]
  },
  {
   "cell_type": "code",
   "execution_count": 13,
   "metadata": {},
   "outputs": [
    {
     "name": "stdout",
     "output_type": "stream",
     "text": [
      "3.84 s ± 0 ns per loop (mean ± std. dev. of 1 run, 1 loop each)\n",
      "4.02 s ± 0 ns per loop (mean ± std. dev. of 1 run, 1 loop each)\n",
      "4.04 s ± 0 ns per loop (mean ± std. dev. of 1 run, 1 loop each)\n"
     ]
    }
   ],
   "source": [
    "# Test insert\n",
    "\n",
    "%timeit -r 1 -n 1 test_insert(split_list, nr)\n",
    "%timeit -r 1 -n 1 test_insert(split_list_parallel, nr)\n",
    "%timeit -r 1 -n 1 test_insert(split_list_parallel2, nr)"
   ]
  },
  {
   "cell_type": "code",
   "execution_count": 14,
   "metadata": {},
   "outputs": [
    {
     "name": "stdout",
     "output_type": "stream",
     "text": [
      "309 µs ± 81.7 µs per loop (mean ± std. dev. of 10 runs, 1 loop each)\n",
      "4.63 s ± 78.6 ms per loop (mean ± std. dev. of 10 runs, 1 loop each)\n"
     ]
    },
    {
     "ename": "OSError",
     "evalue": "[Errno 24] Too many open files",
     "output_type": "error",
     "traceback": [
      "\u001b[0;31m---------------------------------------------------------------------------\u001b[0m",
      "\u001b[0;31mOSError\u001b[0m                                   Traceback (most recent call last)",
      "\u001b[0;32m<ipython-input-14-ce3ae4c0b279>\u001b[0m in \u001b[0;36m<module>\u001b[0;34m\u001b[0m\n\u001b[1;32m      4\u001b[0m \u001b[0mget_ipython\u001b[0m\u001b[0;34m(\u001b[0m\u001b[0;34m)\u001b[0m\u001b[0;34m.\u001b[0m\u001b[0mrun_line_magic\u001b[0m\u001b[0;34m(\u001b[0m\u001b[0;34m'timeit'\u001b[0m\u001b[0;34m,\u001b[0m \u001b[0;34m'-r 10 -n 1 test_lookup(split_list, lookups)'\u001b[0m\u001b[0;34m)\u001b[0m\u001b[0;34m\u001b[0m\u001b[0;34m\u001b[0m\u001b[0m\n\u001b[1;32m      5\u001b[0m \u001b[0mget_ipython\u001b[0m\u001b[0;34m(\u001b[0m\u001b[0;34m)\u001b[0m\u001b[0;34m.\u001b[0m\u001b[0mrun_line_magic\u001b[0m\u001b[0;34m(\u001b[0m\u001b[0;34m'timeit'\u001b[0m\u001b[0;34m,\u001b[0m \u001b[0;34m'-r 10 -n 1 test_lookup(split_list_parallel, lookups)'\u001b[0m\u001b[0;34m)\u001b[0m\u001b[0;34m\u001b[0m\u001b[0;34m\u001b[0m\u001b[0m\n\u001b[0;32m----> 6\u001b[0;31m \u001b[0mget_ipython\u001b[0m\u001b[0;34m(\u001b[0m\u001b[0;34m)\u001b[0m\u001b[0;34m.\u001b[0m\u001b[0mrun_line_magic\u001b[0m\u001b[0;34m(\u001b[0m\u001b[0;34m'timeit'\u001b[0m\u001b[0;34m,\u001b[0m \u001b[0;34m'-r 10 -n 1 test_lookup(split_list_parallel2, lookups)'\u001b[0m\u001b[0;34m)\u001b[0m\u001b[0;34m\u001b[0m\u001b[0;34m\u001b[0m\u001b[0m\n\u001b[0m",
      "\u001b[0;32m/opt/anaconda3/envs/witchcraft/lib/python3.8/site-packages/IPython/core/interactiveshell.py\u001b[0m in \u001b[0;36mrun_line_magic\u001b[0;34m(self, magic_name, line, _stack_depth)\u001b[0m\n\u001b[1;32m   2325\u001b[0m                 \u001b[0mkwargs\u001b[0m\u001b[0;34m[\u001b[0m\u001b[0;34m'local_ns'\u001b[0m\u001b[0;34m]\u001b[0m \u001b[0;34m=\u001b[0m \u001b[0mself\u001b[0m\u001b[0;34m.\u001b[0m\u001b[0mget_local_scope\u001b[0m\u001b[0;34m(\u001b[0m\u001b[0mstack_depth\u001b[0m\u001b[0;34m)\u001b[0m\u001b[0;34m\u001b[0m\u001b[0;34m\u001b[0m\u001b[0m\n\u001b[1;32m   2326\u001b[0m             \u001b[0;32mwith\u001b[0m \u001b[0mself\u001b[0m\u001b[0;34m.\u001b[0m\u001b[0mbuiltin_trap\u001b[0m\u001b[0;34m:\u001b[0m\u001b[0;34m\u001b[0m\u001b[0;34m\u001b[0m\u001b[0m\n\u001b[0;32m-> 2327\u001b[0;31m                 \u001b[0mresult\u001b[0m \u001b[0;34m=\u001b[0m \u001b[0mfn\u001b[0m\u001b[0;34m(\u001b[0m\u001b[0;34m*\u001b[0m\u001b[0margs\u001b[0m\u001b[0;34m,\u001b[0m \u001b[0;34m**\u001b[0m\u001b[0mkwargs\u001b[0m\u001b[0;34m)\u001b[0m\u001b[0;34m\u001b[0m\u001b[0;34m\u001b[0m\u001b[0m\n\u001b[0m\u001b[1;32m   2328\u001b[0m             \u001b[0;32mreturn\u001b[0m \u001b[0mresult\u001b[0m\u001b[0;34m\u001b[0m\u001b[0;34m\u001b[0m\u001b[0m\n\u001b[1;32m   2329\u001b[0m \u001b[0;34m\u001b[0m\u001b[0m\n",
      "\u001b[0;32m<decorator-gen-53>\u001b[0m in \u001b[0;36mtimeit\u001b[0;34m(self, line, cell, local_ns)\u001b[0m\n",
      "\u001b[0;32m/opt/anaconda3/envs/witchcraft/lib/python3.8/site-packages/IPython/core/magic.py\u001b[0m in \u001b[0;36m<lambda>\u001b[0;34m(f, *a, **k)\u001b[0m\n\u001b[1;32m    185\u001b[0m     \u001b[0;31m# but it's overkill for just that one bit of state.\u001b[0m\u001b[0;34m\u001b[0m\u001b[0;34m\u001b[0m\u001b[0;34m\u001b[0m\u001b[0m\n\u001b[1;32m    186\u001b[0m     \u001b[0;32mdef\u001b[0m \u001b[0mmagic_deco\u001b[0m\u001b[0;34m(\u001b[0m\u001b[0marg\u001b[0m\u001b[0;34m)\u001b[0m\u001b[0;34m:\u001b[0m\u001b[0;34m\u001b[0m\u001b[0;34m\u001b[0m\u001b[0m\n\u001b[0;32m--> 187\u001b[0;31m         \u001b[0mcall\u001b[0m \u001b[0;34m=\u001b[0m \u001b[0;32mlambda\u001b[0m \u001b[0mf\u001b[0m\u001b[0;34m,\u001b[0m \u001b[0;34m*\u001b[0m\u001b[0ma\u001b[0m\u001b[0;34m,\u001b[0m \u001b[0;34m**\u001b[0m\u001b[0mk\u001b[0m\u001b[0;34m:\u001b[0m \u001b[0mf\u001b[0m\u001b[0;34m(\u001b[0m\u001b[0;34m*\u001b[0m\u001b[0ma\u001b[0m\u001b[0;34m,\u001b[0m \u001b[0;34m**\u001b[0m\u001b[0mk\u001b[0m\u001b[0;34m)\u001b[0m\u001b[0;34m\u001b[0m\u001b[0;34m\u001b[0m\u001b[0m\n\u001b[0m\u001b[1;32m    188\u001b[0m \u001b[0;34m\u001b[0m\u001b[0m\n\u001b[1;32m    189\u001b[0m         \u001b[0;32mif\u001b[0m \u001b[0mcallable\u001b[0m\u001b[0;34m(\u001b[0m\u001b[0marg\u001b[0m\u001b[0;34m)\u001b[0m\u001b[0;34m:\u001b[0m\u001b[0;34m\u001b[0m\u001b[0;34m\u001b[0m\u001b[0m\n",
      "\u001b[0;32m/opt/anaconda3/envs/witchcraft/lib/python3.8/site-packages/IPython/core/magics/execution.py\u001b[0m in \u001b[0;36mtimeit\u001b[0;34m(self, line, cell, local_ns)\u001b[0m\n\u001b[1;32m   1171\u001b[0m                     \u001b[0;32mbreak\u001b[0m\u001b[0;34m\u001b[0m\u001b[0;34m\u001b[0m\u001b[0m\n\u001b[1;32m   1172\u001b[0m \u001b[0;34m\u001b[0m\u001b[0m\n\u001b[0;32m-> 1173\u001b[0;31m         \u001b[0mall_runs\u001b[0m \u001b[0;34m=\u001b[0m \u001b[0mtimer\u001b[0m\u001b[0;34m.\u001b[0m\u001b[0mrepeat\u001b[0m\u001b[0;34m(\u001b[0m\u001b[0mrepeat\u001b[0m\u001b[0;34m,\u001b[0m \u001b[0mnumber\u001b[0m\u001b[0;34m)\u001b[0m\u001b[0;34m\u001b[0m\u001b[0;34m\u001b[0m\u001b[0m\n\u001b[0m\u001b[1;32m   1174\u001b[0m         \u001b[0mbest\u001b[0m \u001b[0;34m=\u001b[0m \u001b[0mmin\u001b[0m\u001b[0;34m(\u001b[0m\u001b[0mall_runs\u001b[0m\u001b[0;34m)\u001b[0m \u001b[0;34m/\u001b[0m \u001b[0mnumber\u001b[0m\u001b[0;34m\u001b[0m\u001b[0;34m\u001b[0m\u001b[0m\n\u001b[1;32m   1175\u001b[0m         \u001b[0mworst\u001b[0m \u001b[0;34m=\u001b[0m \u001b[0mmax\u001b[0m\u001b[0;34m(\u001b[0m\u001b[0mall_runs\u001b[0m\u001b[0;34m)\u001b[0m \u001b[0;34m/\u001b[0m \u001b[0mnumber\u001b[0m\u001b[0;34m\u001b[0m\u001b[0;34m\u001b[0m\u001b[0m\n",
      "\u001b[0;32m/opt/anaconda3/envs/witchcraft/lib/python3.8/timeit.py\u001b[0m in \u001b[0;36mrepeat\u001b[0;34m(self, repeat, number)\u001b[0m\n\u001b[1;32m    202\u001b[0m         \u001b[0mr\u001b[0m \u001b[0;34m=\u001b[0m \u001b[0;34m[\u001b[0m\u001b[0;34m]\u001b[0m\u001b[0;34m\u001b[0m\u001b[0;34m\u001b[0m\u001b[0m\n\u001b[1;32m    203\u001b[0m         \u001b[0;32mfor\u001b[0m \u001b[0mi\u001b[0m \u001b[0;32min\u001b[0m \u001b[0mrange\u001b[0m\u001b[0;34m(\u001b[0m\u001b[0mrepeat\u001b[0m\u001b[0;34m)\u001b[0m\u001b[0;34m:\u001b[0m\u001b[0;34m\u001b[0m\u001b[0;34m\u001b[0m\u001b[0m\n\u001b[0;32m--> 204\u001b[0;31m             \u001b[0mt\u001b[0m \u001b[0;34m=\u001b[0m \u001b[0mself\u001b[0m\u001b[0;34m.\u001b[0m\u001b[0mtimeit\u001b[0m\u001b[0;34m(\u001b[0m\u001b[0mnumber\u001b[0m\u001b[0;34m)\u001b[0m\u001b[0;34m\u001b[0m\u001b[0;34m\u001b[0m\u001b[0m\n\u001b[0m\u001b[1;32m    205\u001b[0m             \u001b[0mr\u001b[0m\u001b[0;34m.\u001b[0m\u001b[0mappend\u001b[0m\u001b[0;34m(\u001b[0m\u001b[0mt\u001b[0m\u001b[0;34m)\u001b[0m\u001b[0;34m\u001b[0m\u001b[0;34m\u001b[0m\u001b[0m\n\u001b[1;32m    206\u001b[0m         \u001b[0;32mreturn\u001b[0m \u001b[0mr\u001b[0m\u001b[0;34m\u001b[0m\u001b[0;34m\u001b[0m\u001b[0m\n",
      "\u001b[0;32m/opt/anaconda3/envs/witchcraft/lib/python3.8/site-packages/IPython/core/magics/execution.py\u001b[0m in \u001b[0;36mtimeit\u001b[0;34m(self, number)\u001b[0m\n\u001b[1;32m    167\u001b[0m         \u001b[0mgc\u001b[0m\u001b[0;34m.\u001b[0m\u001b[0mdisable\u001b[0m\u001b[0;34m(\u001b[0m\u001b[0;34m)\u001b[0m\u001b[0;34m\u001b[0m\u001b[0;34m\u001b[0m\u001b[0m\n\u001b[1;32m    168\u001b[0m         \u001b[0;32mtry\u001b[0m\u001b[0;34m:\u001b[0m\u001b[0;34m\u001b[0m\u001b[0;34m\u001b[0m\u001b[0m\n\u001b[0;32m--> 169\u001b[0;31m             \u001b[0mtiming\u001b[0m \u001b[0;34m=\u001b[0m \u001b[0mself\u001b[0m\u001b[0;34m.\u001b[0m\u001b[0minner\u001b[0m\u001b[0;34m(\u001b[0m\u001b[0mit\u001b[0m\u001b[0;34m,\u001b[0m \u001b[0mself\u001b[0m\u001b[0;34m.\u001b[0m\u001b[0mtimer\u001b[0m\u001b[0;34m)\u001b[0m\u001b[0;34m\u001b[0m\u001b[0;34m\u001b[0m\u001b[0m\n\u001b[0m\u001b[1;32m    170\u001b[0m         \u001b[0;32mfinally\u001b[0m\u001b[0;34m:\u001b[0m\u001b[0;34m\u001b[0m\u001b[0;34m\u001b[0m\u001b[0m\n\u001b[1;32m    171\u001b[0m             \u001b[0;32mif\u001b[0m \u001b[0mgcold\u001b[0m\u001b[0;34m:\u001b[0m\u001b[0;34m\u001b[0m\u001b[0;34m\u001b[0m\u001b[0m\n",
      "\u001b[0;32m<magic-timeit>\u001b[0m in \u001b[0;36minner\u001b[0;34m(_it, _timer)\u001b[0m\n",
      "\u001b[0;32m<ipython-input-11-0e51100a73ba>\u001b[0m in \u001b[0;36mtest_lookup\u001b[0;34m(lst, reps)\u001b[0m\n\u001b[1;32m     11\u001b[0m \u001b[0;32mdef\u001b[0m \u001b[0mtest_lookup\u001b[0m\u001b[0;34m(\u001b[0m\u001b[0mlst\u001b[0m\u001b[0;34m,\u001b[0m \u001b[0mreps\u001b[0m\u001b[0;34m)\u001b[0m\u001b[0;34m:\u001b[0m\u001b[0;34m\u001b[0m\u001b[0;34m\u001b[0m\u001b[0m\n\u001b[1;32m     12\u001b[0m     \u001b[0;32mfor\u001b[0m \u001b[0mi\u001b[0m \u001b[0;32min\u001b[0m \u001b[0mrange\u001b[0m\u001b[0;34m(\u001b[0m\u001b[0mreps\u001b[0m\u001b[0;34m)\u001b[0m\u001b[0;34m:\u001b[0m\u001b[0;34m\u001b[0m\u001b[0;34m\u001b[0m\u001b[0m\n\u001b[0;32m---> 13\u001b[0;31m         \u001b[0mlst\u001b[0m\u001b[0;34m.\u001b[0m\u001b[0mlookup\u001b[0m\u001b[0;34m(\u001b[0m\u001b[0mten_thousand_integers\u001b[0m\u001b[0;34m[\u001b[0m\u001b[0mi\u001b[0m\u001b[0;34m]\u001b[0m\u001b[0;34m)\u001b[0m\u001b[0;34m\u001b[0m\u001b[0;34m\u001b[0m\u001b[0m\n\u001b[0m",
      "\u001b[0;32m~/code/witchcraft/notebooks/splitlist_parallel2.py\u001b[0m in \u001b[0;36mlookup\u001b[0;34m(self, nr)\u001b[0m\n\u001b[1;32m    126\u001b[0m         \u001b[0mglobal_heights\u001b[0m \u001b[0;34m=\u001b[0m \u001b[0mself\u001b[0m\u001b[0;34m.\u001b[0m\u001b[0mblists\u001b[0m\u001b[0;34m\u001b[0m\u001b[0;34m\u001b[0m\u001b[0m\n\u001b[1;32m    127\u001b[0m \u001b[0;34m\u001b[0m\u001b[0m\n\u001b[0;32m--> 128\u001b[0;31m         \u001b[0mworkers\u001b[0m \u001b[0;34m=\u001b[0m \u001b[0mLookupWorkers\u001b[0m\u001b[0;34m(\u001b[0m\u001b[0;34m)\u001b[0m\u001b[0;34m\u001b[0m\u001b[0;34m\u001b[0m\u001b[0m\n\u001b[0m\u001b[1;32m    129\u001b[0m         \u001b[0mresult\u001b[0m \u001b[0;34m=\u001b[0m \u001b[0mworkers\u001b[0m\u001b[0;34m.\u001b[0m\u001b[0mrun\u001b[0m\u001b[0;34m(\u001b[0m\u001b[0mlookup_subprocess\u001b[0m\u001b[0;34m,\u001b[0m \u001b[0mnr\u001b[0m\u001b[0;34m)\u001b[0m\u001b[0;34m\u001b[0m\u001b[0;34m\u001b[0m\u001b[0m\n\u001b[1;32m    130\u001b[0m \u001b[0;34m\u001b[0m\u001b[0m\n",
      "\u001b[0;32m~/code/witchcraft/notebooks/splitlist_parallel2.py\u001b[0m in \u001b[0;36m__init__\u001b[0;34m(self)\u001b[0m\n\u001b[1;32m     74\u001b[0m     \u001b[0;32mdef\u001b[0m \u001b[0m__init__\u001b[0m\u001b[0;34m(\u001b[0m\u001b[0mself\u001b[0m\u001b[0;34m)\u001b[0m\u001b[0;34m:\u001b[0m\u001b[0;34m\u001b[0m\u001b[0;34m\u001b[0m\u001b[0m\n\u001b[1;32m     75\u001b[0m         \u001b[0mself\u001b[0m\u001b[0;34m.\u001b[0m\u001b[0mn_workers\u001b[0m \u001b[0;34m=\u001b[0m \u001b[0mcpu_count\u001b[0m\u001b[0;34m(\u001b[0m\u001b[0;34m)\u001b[0m \u001b[0;34m-\u001b[0m \u001b[0;36m1\u001b[0m\u001b[0;34m\u001b[0m\u001b[0;34m\u001b[0m\u001b[0m\n\u001b[0;32m---> 76\u001b[0;31m         \u001b[0mself\u001b[0m\u001b[0;34m.\u001b[0m\u001b[0mpool\u001b[0m \u001b[0;34m=\u001b[0m \u001b[0mPool\u001b[0m\u001b[0;34m(\u001b[0m\u001b[0mself\u001b[0m\u001b[0;34m.\u001b[0m\u001b[0mn_workers\u001b[0m\u001b[0;34m)\u001b[0m\u001b[0;34m\u001b[0m\u001b[0;34m\u001b[0m\u001b[0m\n\u001b[0m\u001b[1;32m     77\u001b[0m         \u001b[0mself\u001b[0m\u001b[0;34m.\u001b[0m\u001b[0mresult\u001b[0m \u001b[0;34m=\u001b[0m \u001b[0;32mFalse\u001b[0m\u001b[0;34m\u001b[0m\u001b[0;34m\u001b[0m\u001b[0m\n\u001b[1;32m     78\u001b[0m \u001b[0;34m\u001b[0m\u001b[0m\n",
      "\u001b[0;32m/opt/anaconda3/envs/witchcraft/lib/python3.8/multiprocessing/dummy/__init__.py\u001b[0m in \u001b[0;36mPool\u001b[0;34m(processes, initializer, initargs)\u001b[0m\n\u001b[1;32m    122\u001b[0m \u001b[0;32mdef\u001b[0m \u001b[0mPool\u001b[0m\u001b[0;34m(\u001b[0m\u001b[0mprocesses\u001b[0m\u001b[0;34m=\u001b[0m\u001b[0;32mNone\u001b[0m\u001b[0;34m,\u001b[0m \u001b[0minitializer\u001b[0m\u001b[0;34m=\u001b[0m\u001b[0;32mNone\u001b[0m\u001b[0;34m,\u001b[0m \u001b[0minitargs\u001b[0m\u001b[0;34m=\u001b[0m\u001b[0;34m(\u001b[0m\u001b[0;34m)\u001b[0m\u001b[0;34m)\u001b[0m\u001b[0;34m:\u001b[0m\u001b[0;34m\u001b[0m\u001b[0;34m\u001b[0m\u001b[0m\n\u001b[1;32m    123\u001b[0m     \u001b[0;32mfrom\u001b[0m \u001b[0;34m.\u001b[0m\u001b[0;34m.\u001b[0m\u001b[0mpool\u001b[0m \u001b[0;32mimport\u001b[0m \u001b[0mThreadPool\u001b[0m\u001b[0;34m\u001b[0m\u001b[0;34m\u001b[0m\u001b[0m\n\u001b[0;32m--> 124\u001b[0;31m     \u001b[0;32mreturn\u001b[0m \u001b[0mThreadPool\u001b[0m\u001b[0;34m(\u001b[0m\u001b[0mprocesses\u001b[0m\u001b[0;34m,\u001b[0m \u001b[0minitializer\u001b[0m\u001b[0;34m,\u001b[0m \u001b[0minitargs\u001b[0m\u001b[0;34m)\u001b[0m\u001b[0;34m\u001b[0m\u001b[0;34m\u001b[0m\u001b[0m\n\u001b[0m\u001b[1;32m    125\u001b[0m \u001b[0;34m\u001b[0m\u001b[0m\n\u001b[1;32m    126\u001b[0m \u001b[0mJoinableQueue\u001b[0m \u001b[0;34m=\u001b[0m \u001b[0mQueue\u001b[0m\u001b[0;34m\u001b[0m\u001b[0;34m\u001b[0m\u001b[0m\n",
      "\u001b[0;32m/opt/anaconda3/envs/witchcraft/lib/python3.8/multiprocessing/pool.py\u001b[0m in \u001b[0;36m__init__\u001b[0;34m(self, processes, initializer, initargs)\u001b[0m\n\u001b[1;32m    920\u001b[0m \u001b[0;34m\u001b[0m\u001b[0m\n\u001b[1;32m    921\u001b[0m     \u001b[0;32mdef\u001b[0m \u001b[0m__init__\u001b[0m\u001b[0;34m(\u001b[0m\u001b[0mself\u001b[0m\u001b[0;34m,\u001b[0m \u001b[0mprocesses\u001b[0m\u001b[0;34m=\u001b[0m\u001b[0;32mNone\u001b[0m\u001b[0;34m,\u001b[0m \u001b[0minitializer\u001b[0m\u001b[0;34m=\u001b[0m\u001b[0;32mNone\u001b[0m\u001b[0;34m,\u001b[0m \u001b[0minitargs\u001b[0m\u001b[0;34m=\u001b[0m\u001b[0;34m(\u001b[0m\u001b[0;34m)\u001b[0m\u001b[0;34m)\u001b[0m\u001b[0;34m:\u001b[0m\u001b[0;34m\u001b[0m\u001b[0;34m\u001b[0m\u001b[0m\n\u001b[0;32m--> 922\u001b[0;31m         \u001b[0mPool\u001b[0m\u001b[0;34m.\u001b[0m\u001b[0m__init__\u001b[0m\u001b[0;34m(\u001b[0m\u001b[0mself\u001b[0m\u001b[0;34m,\u001b[0m \u001b[0mprocesses\u001b[0m\u001b[0;34m,\u001b[0m \u001b[0minitializer\u001b[0m\u001b[0;34m,\u001b[0m \u001b[0minitargs\u001b[0m\u001b[0;34m)\u001b[0m\u001b[0;34m\u001b[0m\u001b[0;34m\u001b[0m\u001b[0m\n\u001b[0m\u001b[1;32m    923\u001b[0m \u001b[0;34m\u001b[0m\u001b[0m\n\u001b[1;32m    924\u001b[0m     \u001b[0;32mdef\u001b[0m \u001b[0m_setup_queues\u001b[0m\u001b[0;34m(\u001b[0m\u001b[0mself\u001b[0m\u001b[0;34m)\u001b[0m\u001b[0;34m:\u001b[0m\u001b[0;34m\u001b[0m\u001b[0;34m\u001b[0m\u001b[0m\n",
      "\u001b[0;32m/opt/anaconda3/envs/witchcraft/lib/python3.8/multiprocessing/pool.py\u001b[0m in \u001b[0;36m__init__\u001b[0;34m(self, processes, initializer, initargs, maxtasksperchild, context)\u001b[0m\n\u001b[1;32m    194\u001b[0m         \u001b[0;31m# when the cache (self._cache) is empty or when there is a change in\u001b[0m\u001b[0;34m\u001b[0m\u001b[0;34m\u001b[0m\u001b[0;34m\u001b[0m\u001b[0m\n\u001b[1;32m    195\u001b[0m         \u001b[0;31m# the _state variable of the thread that runs _handle_workers.\u001b[0m\u001b[0;34m\u001b[0m\u001b[0;34m\u001b[0m\u001b[0;34m\u001b[0m\u001b[0m\n\u001b[0;32m--> 196\u001b[0;31m         \u001b[0mself\u001b[0m\u001b[0;34m.\u001b[0m\u001b[0m_change_notifier\u001b[0m \u001b[0;34m=\u001b[0m \u001b[0mself\u001b[0m\u001b[0;34m.\u001b[0m\u001b[0m_ctx\u001b[0m\u001b[0;34m.\u001b[0m\u001b[0mSimpleQueue\u001b[0m\u001b[0;34m(\u001b[0m\u001b[0;34m)\u001b[0m\u001b[0;34m\u001b[0m\u001b[0;34m\u001b[0m\u001b[0m\n\u001b[0m\u001b[1;32m    197\u001b[0m         \u001b[0mself\u001b[0m\u001b[0;34m.\u001b[0m\u001b[0m_cache\u001b[0m \u001b[0;34m=\u001b[0m \u001b[0m_PoolCache\u001b[0m\u001b[0;34m(\u001b[0m\u001b[0mnotifier\u001b[0m\u001b[0;34m=\u001b[0m\u001b[0mself\u001b[0m\u001b[0;34m.\u001b[0m\u001b[0m_change_notifier\u001b[0m\u001b[0;34m)\u001b[0m\u001b[0;34m\u001b[0m\u001b[0;34m\u001b[0m\u001b[0m\n\u001b[1;32m    198\u001b[0m         \u001b[0mself\u001b[0m\u001b[0;34m.\u001b[0m\u001b[0m_maxtasksperchild\u001b[0m \u001b[0;34m=\u001b[0m \u001b[0mmaxtasksperchild\u001b[0m\u001b[0;34m\u001b[0m\u001b[0;34m\u001b[0m\u001b[0m\n",
      "\u001b[0;32m/opt/anaconda3/envs/witchcraft/lib/python3.8/multiprocessing/context.py\u001b[0m in \u001b[0;36mSimpleQueue\u001b[0;34m(self)\u001b[0m\n\u001b[1;32m    111\u001b[0m         \u001b[0;34m'''Returns a queue object'''\u001b[0m\u001b[0;34m\u001b[0m\u001b[0;34m\u001b[0m\u001b[0m\n\u001b[1;32m    112\u001b[0m         \u001b[0;32mfrom\u001b[0m \u001b[0;34m.\u001b[0m\u001b[0mqueues\u001b[0m \u001b[0;32mimport\u001b[0m \u001b[0mSimpleQueue\u001b[0m\u001b[0;34m\u001b[0m\u001b[0;34m\u001b[0m\u001b[0m\n\u001b[0;32m--> 113\u001b[0;31m         \u001b[0;32mreturn\u001b[0m \u001b[0mSimpleQueue\u001b[0m\u001b[0;34m(\u001b[0m\u001b[0mctx\u001b[0m\u001b[0;34m=\u001b[0m\u001b[0mself\u001b[0m\u001b[0;34m.\u001b[0m\u001b[0mget_context\u001b[0m\u001b[0;34m(\u001b[0m\u001b[0;34m)\u001b[0m\u001b[0;34m)\u001b[0m\u001b[0;34m\u001b[0m\u001b[0;34m\u001b[0m\u001b[0m\n\u001b[0m\u001b[1;32m    114\u001b[0m \u001b[0;34m\u001b[0m\u001b[0m\n\u001b[1;32m    115\u001b[0m     def Pool(self, processes=None, initializer=None, initargs=(),\n",
      "\u001b[0;32m/opt/anaconda3/envs/witchcraft/lib/python3.8/multiprocessing/queues.py\u001b[0m in \u001b[0;36m__init__\u001b[0;34m(self, ctx)\u001b[0m\n\u001b[1;32m    333\u001b[0m \u001b[0;34m\u001b[0m\u001b[0m\n\u001b[1;32m    334\u001b[0m     \u001b[0;32mdef\u001b[0m \u001b[0m__init__\u001b[0m\u001b[0;34m(\u001b[0m\u001b[0mself\u001b[0m\u001b[0;34m,\u001b[0m \u001b[0;34m*\u001b[0m\u001b[0;34m,\u001b[0m \u001b[0mctx\u001b[0m\u001b[0;34m)\u001b[0m\u001b[0;34m:\u001b[0m\u001b[0;34m\u001b[0m\u001b[0;34m\u001b[0m\u001b[0m\n\u001b[0;32m--> 335\u001b[0;31m         \u001b[0mself\u001b[0m\u001b[0;34m.\u001b[0m\u001b[0m_reader\u001b[0m\u001b[0;34m,\u001b[0m \u001b[0mself\u001b[0m\u001b[0;34m.\u001b[0m\u001b[0m_writer\u001b[0m \u001b[0;34m=\u001b[0m \u001b[0mconnection\u001b[0m\u001b[0;34m.\u001b[0m\u001b[0mPipe\u001b[0m\u001b[0;34m(\u001b[0m\u001b[0mduplex\u001b[0m\u001b[0;34m=\u001b[0m\u001b[0;32mFalse\u001b[0m\u001b[0;34m)\u001b[0m\u001b[0;34m\u001b[0m\u001b[0;34m\u001b[0m\u001b[0m\n\u001b[0m\u001b[1;32m    336\u001b[0m         \u001b[0mself\u001b[0m\u001b[0;34m.\u001b[0m\u001b[0m_rlock\u001b[0m \u001b[0;34m=\u001b[0m \u001b[0mctx\u001b[0m\u001b[0;34m.\u001b[0m\u001b[0mLock\u001b[0m\u001b[0;34m(\u001b[0m\u001b[0;34m)\u001b[0m\u001b[0;34m\u001b[0m\u001b[0;34m\u001b[0m\u001b[0m\n\u001b[1;32m    337\u001b[0m         \u001b[0mself\u001b[0m\u001b[0;34m.\u001b[0m\u001b[0m_poll\u001b[0m \u001b[0;34m=\u001b[0m \u001b[0mself\u001b[0m\u001b[0;34m.\u001b[0m\u001b[0m_reader\u001b[0m\u001b[0;34m.\u001b[0m\u001b[0mpoll\u001b[0m\u001b[0;34m\u001b[0m\u001b[0;34m\u001b[0m\u001b[0m\n",
      "\u001b[0;32m/opt/anaconda3/envs/witchcraft/lib/python3.8/multiprocessing/connection.py\u001b[0m in \u001b[0;36mPipe\u001b[0;34m(duplex)\u001b[0m\n\u001b[1;32m    525\u001b[0m             \u001b[0mc2\u001b[0m \u001b[0;34m=\u001b[0m \u001b[0mConnection\u001b[0m\u001b[0;34m(\u001b[0m\u001b[0ms2\u001b[0m\u001b[0;34m.\u001b[0m\u001b[0mdetach\u001b[0m\u001b[0;34m(\u001b[0m\u001b[0;34m)\u001b[0m\u001b[0;34m)\u001b[0m\u001b[0;34m\u001b[0m\u001b[0;34m\u001b[0m\u001b[0m\n\u001b[1;32m    526\u001b[0m         \u001b[0;32melse\u001b[0m\u001b[0;34m:\u001b[0m\u001b[0;34m\u001b[0m\u001b[0;34m\u001b[0m\u001b[0m\n\u001b[0;32m--> 527\u001b[0;31m             \u001b[0mfd1\u001b[0m\u001b[0;34m,\u001b[0m \u001b[0mfd2\u001b[0m \u001b[0;34m=\u001b[0m \u001b[0mos\u001b[0m\u001b[0;34m.\u001b[0m\u001b[0mpipe\u001b[0m\u001b[0;34m(\u001b[0m\u001b[0;34m)\u001b[0m\u001b[0;34m\u001b[0m\u001b[0;34m\u001b[0m\u001b[0m\n\u001b[0m\u001b[1;32m    528\u001b[0m             \u001b[0mc1\u001b[0m \u001b[0;34m=\u001b[0m \u001b[0mConnection\u001b[0m\u001b[0;34m(\u001b[0m\u001b[0mfd1\u001b[0m\u001b[0;34m,\u001b[0m \u001b[0mwritable\u001b[0m\u001b[0;34m=\u001b[0m\u001b[0;32mFalse\u001b[0m\u001b[0;34m)\u001b[0m\u001b[0;34m\u001b[0m\u001b[0;34m\u001b[0m\u001b[0m\n\u001b[1;32m    529\u001b[0m             \u001b[0mc2\u001b[0m \u001b[0;34m=\u001b[0m \u001b[0mConnection\u001b[0m\u001b[0;34m(\u001b[0m\u001b[0mfd2\u001b[0m\u001b[0;34m,\u001b[0m \u001b[0mreadable\u001b[0m\u001b[0;34m=\u001b[0m\u001b[0;32mFalse\u001b[0m\u001b[0;34m)\u001b[0m\u001b[0;34m\u001b[0m\u001b[0;34m\u001b[0m\u001b[0m\n",
      "\u001b[0;31mOSError\u001b[0m: [Errno 24] Too many open files"
     ]
    }
   ],
   "source": [
    "# Test lookup\n",
    "lookups = 50\n",
    "\n",
    "%timeit -r 10 -n 1 test_lookup(split_list, lookups)\n",
    "%timeit -r 10 -n 1 test_lookup(split_list_parallel, lookups)\n",
    "%timeit -r 10 -n 1 test_lookup(split_list_parallel2, lookups)"
   ]
  },
  {
   "cell_type": "markdown",
   "metadata": {},
   "source": [
    "Note 368 **micro**-seconds vs 137 **milli**-seconds. Parallelized version is slower by a factor of ~370."
   ]
  },
  {
   "cell_type": "code",
   "execution_count": 18,
   "metadata": {},
   "outputs": [],
   "source": [
    "random.seed(0)\n",
    "\n",
    "split_list = SplitList()\n",
    "split_list_parallel = SplitListParallelized()\n",
    "\n",
    "nr = 10_000\n",
    "ten_thousand_integers = [random.randint(1, 2000000) for i in range(nr)]"
   ]
  },
  {
   "cell_type": "code",
   "execution_count": 19,
   "metadata": {},
   "outputs": [
    {
     "name": "stdout",
     "output_type": "stream",
     "text": [
      "22.4 ms ± 0 ns per loop (mean ± std. dev. of 1 run, 1 loop each)\n",
      "22.7 ms ± 0 ns per loop (mean ± std. dev. of 1 run, 1 loop each)\n"
     ]
    }
   ],
   "source": [
    "# Test insert\n",
    "\n",
    "%timeit -r 1 -n 1 test_insert_SplitList(nr)\n",
    "%timeit -r 1 -n 1 test_insert_SplitListParallelized(nr)"
   ]
  },
  {
   "cell_type": "code",
   "execution_count": 20,
   "metadata": {},
   "outputs": [
    {
     "name": "stdout",
     "output_type": "stream",
     "text": [
      "4.02 ms ± 1.03 ms per loop (mean ± std. dev. of 10 runs, 1 loop each)\n",
      "622 ms ± 99.2 ms per loop (mean ± std. dev. of 10 runs, 1 loop each)\n"
     ]
    }
   ],
   "source": [
    "# Test lookup\n",
    "\n",
    "lookups = 1000\n",
    "\n",
    "%timeit -r 10 -n 1 test_lookup_SplitList(lookups)\n",
    "%timeit -r 10 -n 1 test_lookup_SplitListParallelized(lookups)"
   ]
  },
  {
   "cell_type": "markdown",
   "metadata": {},
   "source": [
    "Again, parallelized is slower, this time by ~170."
   ]
  },
  {
   "cell_type": "code",
   "execution_count": null,
   "metadata": {},
   "outputs": [],
   "source": []
  }
 ],
 "metadata": {
  "kernelspec": {
   "display_name": "Python 3",
   "language": "python",
   "name": "python3"
  },
  "language_info": {
   "codemirror_mode": {
    "name": "ipython",
    "version": 3
   },
   "file_extension": ".py",
   "mimetype": "text/x-python",
   "name": "python",
   "nbconvert_exporter": "python",
   "pygments_lexer": "ipython3",
   "version": "3.8.0"
  }
 },
 "nbformat": 4,
 "nbformat_minor": 4
}
